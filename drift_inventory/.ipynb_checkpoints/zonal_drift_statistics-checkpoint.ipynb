{
 "cells": [
  {
   "cell_type": "code",
   "execution_count": 1,
   "metadata": {},
   "outputs": [],
   "source": [
    "import geopandas as gpd\n",
    "import pandas as pd\n",
    "import rasterio\n",
    "import rasterstats as rs\n",
    "import numpy as np\n",
    "import sys\n",
    "import seaborn as sns\n",
    "import matplotlib.pyplot as plt\n",
    "sys.path.insert(0, '../snow_terrain_tiles/')\n",
    "from dem_utils import recursive_rastersstats_to_dict"
   ]
  },
  {
   "cell_type": "code",
   "execution_count": 2,
   "metadata": {},
   "outputs": [],
   "source": [
    "def compute_drift_statistics(regx, shp):\n",
    "    d = recursive_rastersstats_to_dict(regx, '*_corrected*')\n",
    "    geodf = gpd.read_file(shp)\n",
    "    stats=['mean', 'std', 'median', 'sum']\n",
    "\n",
    "    for k in d.keys():\n",
    "\n",
    "        col_name = str(d[k]['year'][0])\n",
    "\n",
    "        zonal_d = (rs.zonal_stats(geodf, k,\n",
    "                                 stats=stats))\n",
    "        geodf[col_name] = zonal_d\n",
    "        \n",
    "        for st in stats:\n",
    "    \n",
    "            st_series = geodf[col_name].apply(lambda x: x.get(st))\n",
    "            yr_st_name = col_name + '_' + st\n",
    "            geodf[yr_st_name] = st_series\n",
    "\n",
    "        del geodf[col_name]\n",
    "        \n",
    "    return geodf\n",
    "    "
   ]
  },
  {
   "cell_type": "code",
   "execution_count": 3,
   "metadata": {},
   "outputs": [
    {
     "name": "stderr",
     "output_type": "stream",
     "text": [
      "../snow_terrain_tiles/dem_utils.py:149: RuntimeWarning: invalid value encountered in less\n",
      "  arr[arr < -9999] = np.nan\n"
     ]
    }
   ],
   "source": [
    "hv = compute_drift_statistics('../depth_dDEMs/hv/', 'gis/hv_drifts.shp')"
   ]
  },
  {
   "cell_type": "code",
   "execution_count": 4,
   "metadata": {},
   "outputs": [],
   "source": [
    "clpx = compute_drift_statistics('../depth_dDEMs/clpx/', 'gis/clpx_drifts.shp')"
   ]
  },
  {
   "cell_type": "code",
   "execution_count": 5,
   "metadata": {},
   "outputs": [
    {
     "name": "stdout",
     "output_type": "stream",
     "text": [
      "27\n",
      "32\n",
      "59\n"
     ]
    }
   ],
   "source": [
    "print(len(hv))\n",
    "print(len(clpx))\n",
    "geodf = pd.concat([hv, clpx], sort=False)\n",
    "print(len(geodf))"
   ]
  },
  {
   "cell_type": "code",
   "execution_count": 6,
   "metadata": {},
   "outputs": [
    {
     "data": {
      "text/plain": [
       "Index(['drift_type', 'study_area', 'geometry', '2015_mean', '2015_std',\n",
       "       '2015_median', '2015_sum', '2018_mean', '2018_std', '2018_median',\n",
       "       '2018_sum', '2016_mean', '2016_std', '2016_median', '2016_sum',\n",
       "       '2017_mean', '2017_std', '2017_median', '2017_sum'],\n",
       "      dtype='object')"
      ]
     },
     "execution_count": 6,
     "metadata": {},
     "output_type": "execute_result"
    }
   ],
   "source": [
    "# Lots of NoData from 2012/2013 lidar acquisitions\n",
    "geodf_15on = geodf.dropna(axis=1)\n",
    "geodf_15on.columns"
   ]
  },
  {
   "cell_type": "code",
   "execution_count": 7,
   "metadata": {},
   "outputs": [
    {
     "data": {
      "text/html": [
       "<div>\n",
       "<style scoped>\n",
       "    .dataframe tbody tr th:only-of-type {\n",
       "        vertical-align: middle;\n",
       "    }\n",
       "\n",
       "    .dataframe tbody tr th {\n",
       "        vertical-align: top;\n",
       "    }\n",
       "\n",
       "    .dataframe thead th {\n",
       "        text-align: right;\n",
       "    }\n",
       "</style>\n",
       "<table border=\"1\" class=\"dataframe\">\n",
       "  <thead>\n",
       "    <tr style=\"text-align: right;\">\n",
       "      <th></th>\n",
       "      <th>Drift Type</th>\n",
       "      <th>Study Area</th>\n",
       "      <th>Drift Area [m^2]</th>\n",
       "      <th>Mean Drift Depth [m]</th>\n",
       "      <th>Mean Drift Volume [m^3]</th>\n",
       "      <th>Std. Drift Depth [m]</th>\n",
       "      <th>Median Drift Depth [m]</th>\n",
       "      <th>CV Drift Depth</th>\n",
       "      <th>Volume:Area Ratio</th>\n",
       "    </tr>\n",
       "  </thead>\n",
       "  <tbody>\n",
       "    <tr>\n",
       "      <th>0</th>\n",
       "      <td>watertrack</td>\n",
       "      <td>hv</td>\n",
       "      <td>23636.367493</td>\n",
       "      <td>0.776019</td>\n",
       "      <td>18053.440430</td>\n",
       "      <td>0.171731</td>\n",
       "      <td>0.791751</td>\n",
       "      <td>0.221298</td>\n",
       "      <td>0.763799</td>\n",
       "    </tr>\n",
       "    <tr>\n",
       "      <th>1</th>\n",
       "      <td>watertrack</td>\n",
       "      <td>hv</td>\n",
       "      <td>9069.760465</td>\n",
       "      <td>0.777382</td>\n",
       "      <td>7044.636963</td>\n",
       "      <td>0.203242</td>\n",
       "      <td>0.755424</td>\n",
       "      <td>0.261444</td>\n",
       "      <td>0.776717</td>\n",
       "    </tr>\n",
       "    <tr>\n",
       "      <th>2</th>\n",
       "      <td>watertrack</td>\n",
       "      <td>hv</td>\n",
       "      <td>27802.663732</td>\n",
       "      <td>1.093303</td>\n",
       "      <td>30428.813477</td>\n",
       "      <td>0.414733</td>\n",
       "      <td>1.105991</td>\n",
       "      <td>0.379340</td>\n",
       "      <td>1.094457</td>\n",
       "    </tr>\n",
       "  </tbody>\n",
       "</table>\n",
       "</div>"
      ],
      "text/plain": [
       "   Drift Type Study Area  Drift Area [m^2]  Mean Drift Depth [m]  \\\n",
       "0  watertrack         hv      23636.367493              0.776019   \n",
       "1  watertrack         hv       9069.760465              0.777382   \n",
       "2  watertrack         hv      27802.663732              1.093303   \n",
       "\n",
       "   Mean Drift Volume [m^3]  Std. Drift Depth [m]  Median Drift Depth [m]  \\\n",
       "0             18053.440430              0.171731                0.791751   \n",
       "1              7044.636963              0.203242                0.755424   \n",
       "2             30428.813477              0.414733                1.105991   \n",
       "\n",
       "   CV Drift Depth  Volume:Area Ratio  \n",
       "0        0.221298           0.763799  \n",
       "1        0.261444           0.776717  \n",
       "2        0.379340           1.094457  "
      ]
     },
     "execution_count": 7,
     "metadata": {},
     "output_type": "execute_result"
    }
   ],
   "source": [
    "# Get time series averages (e.g. mean of means)\n",
    "all_means = geodf_15on.filter(regex='mean', axis=1)\n",
    "all_std = geodf_15on.filter(regex='std', axis=1)\n",
    "all_volumes = geodf_15on.filter(regex='sum', axis=1)\n",
    "all_meds = geodf_15on.filter(regex='median', axis=1)\n",
    "\n",
    "ts_mean = all_means.mean(axis=1)\n",
    "ts_std = all_std.mean(axis=1)\n",
    "ts_vol = all_volumes.mean(axis=1)\n",
    "ts_med = all_meds.mean(axis=1)\n",
    "\n",
    "summary_df = pd.DataFrame()\n",
    "summary_df['Drift Type'] = geodf_15on.drift_type\n",
    "summary_df['Study Area'] = geodf_15on.study_area\n",
    "summary_df['Drift Area [m^2]'] = geodf_15on.area\n",
    "\n",
    "summary_df['Mean Drift Depth [m]'] = ts_mean\n",
    "summary_df['Mean Drift Volume [m^3]'] = ts_vol\n",
    "summary_df['Std. Drift Depth [m]'] = ts_std\n",
    "summary_df['Median Drift Depth [m]'] = ts_med\n",
    "\n",
    "summary_df['CV Drift Depth'] = ts_std / ts_mean\n",
    "summary_df['Volume:Area Ratio'] = ts_vol / summary_df['Drift Area [m^2]']\n",
    "\n",
    "summary_df.head(3)"
   ]
  },
  {
   "cell_type": "code",
   "execution_count": 9,
   "metadata": {},
   "outputs": [
    {
     "data": {
      "image/png": "[encoded data removed]",
      "text/plain": [
       "<Figure size 423.125x360 with 1 Axes>"
      ]
     },
     "metadata": {
      "needs_background": "light"
     },
     "output_type": "display_data"
    }
   ],
   "source": [
    "sns.catplot(x=\"Drift Type\", y=\"CV Drift Depth\", hue='Study Area', data=summary_df)\n",
    "plt.savefig('figs/drift_type_x_cv.png', dpi=300, bbox_inches='tight')"
   ]
  },
  {
   "cell_type": "code",
   "execution_count": 10,
   "metadata": {},
   "outputs": [
    {
     "data": {
      "image/png": "[encoded data removed]",
      "text/plain": [
       "<Figure size 423.125x360 with 1 Axes>"
      ]
     },
     "metadata": {
      "needs_background": "light"
     },
     "output_type": "display_data"
    }
   ],
   "source": [
    "sns.catplot(x=\"Drift Type\", y=\"Volume:Area Ratio\", hue='Study Area',\n",
    "            data=summary_df)\n",
    "plt.savefig('figs/drift_type_x_volume_area.png', dpi=300, bbox_inches='tight')"
   ]
  },
  {
   "cell_type": "code",
   "execution_count": 17,
   "metadata": {},
   "outputs": [
    {
     "data": {
      "text/plain": [
       "<seaborn.axisgrid.FacetGrid at 0x7fcb003de2e8>"
      ]
     },
     "execution_count": 17,
     "metadata": {},
     "output_type": "execute_result"
    },
    {
     "data": {
      "image/png": "[encoded data removed]",
      "text/plain": [
       "<Figure size 423.25x360 with 1 Axes>"
      ]
     },
     "metadata": {
      "needs_background": "light"
     },
     "output_type": "display_data"
    }
   ],
   "source": [
    "sns.lmplot(x='Std. Drift Depth [m]', y='Mean Drift Depth [m]',\n",
    "           hue='study_area', data=summary_df)"
   ]
  },
  {
   "cell_type": "code",
   "execution_count": 4,
   "metadata": {},
   "outputs": [],
   "source": [
    "# to retreive shape properties - can do this later if useful\n",
    "# not relevant at the moment 7/25/19\n",
    "\n",
    "from skimage.measure import label, regionprops\n",
    "from skimage.color import label2rgb\n",
    "from skimage.morphology import binary_dilation\n",
    "import matplotlib.patches as mpatches\n",
    "\n",
    "src = rasterio.open('drift_masks/hv_drifts_rasterized.tif')\n",
    "arr = src.read(1)\n",
    "msk = (arr > -1).astype(int)\n",
    "be_msk = binary_dilation(msk)"
   ]
  },
  {
   "cell_type": "code",
   "execution_count": 5,
   "metadata": {},
   "outputs": [
    {
     "name": "stderr",
     "output_type": "stream",
     "text": [
      "/home/cparr/miniconda3/envs/geo/lib/python3.7/site-packages/skimage/measure/_regionprops.py:250: UserWarning: regionprops and image moments (including moments, normalized moments, central moments, and inertia tensor) of 2D images will change from xy coordinates to rc coordinates in version 0.16.\n",
      "See https://scikit-image.org/docs/0.14.x/release_notes_and_installation.html#deprecations for details on how to avoid this message.\n",
      "  warn(XY_TO_RC_DEPRECATION_MESSAGE)\n",
      "/home/cparr/miniconda3/envs/geo/lib/python3.7/site-packages/skimage/measure/_regionprops.py:260: UserWarning: regionprops and image moments (including moments, normalized moments, central moments, and inertia tensor) of 2D images will change from xy coordinates to rc coordinates in version 0.16.\n",
      "See https://scikit-image.org/docs/0.14.x/release_notes_and_installation.html#deprecations for details on how to avoid this message.\n",
      "  warn(XY_TO_RC_DEPRECATION_MESSAGE)\n",
      "/home/cparr/miniconda3/envs/geo/lib/python3.7/site-packages/skimage/measure/_regionprops.py:250: UserWarning: regionprops and image moments (including moments, normalized moments, central moments, and inertia tensor) of 2D images will change from xy coordinates to rc coordinates in version 0.16.\n",
      "See https://scikit-image.org/docs/0.14.x/release_notes_and_installation.html#deprecations for details on how to avoid this message.\n",
      "  warn(XY_TO_RC_DEPRECATION_MESSAGE)\n",
      "/home/cparr/miniconda3/envs/geo/lib/python3.7/site-packages/skimage/measure/_regionprops.py:260: UserWarning: regionprops and image moments (including moments, normalized moments, central moments, and inertia tensor) of 2D images will change from xy coordinates to rc coordinates in version 0.16.\n",
      "See https://scikit-image.org/docs/0.14.x/release_notes_and_installation.html#deprecations for details on how to avoid this message.\n",
      "  warn(XY_TO_RC_DEPRECATION_MESSAGE)\n",
      "/home/cparr/miniconda3/envs/geo/lib/python3.7/site-packages/skimage/measure/_regionprops.py:250: UserWarning: regionprops and image moments (including moments, normalized moments, central moments, and inertia tensor) of 2D images will change from xy coordinates to rc coordinates in version 0.16.\n",
      "See https://scikit-image.org/docs/0.14.x/release_notes_and_installation.html#deprecations for details on how to avoid this message.\n",
      "  warn(XY_TO_RC_DEPRECATION_MESSAGE)\n",
      "/home/cparr/miniconda3/envs/geo/lib/python3.7/site-packages/skimage/measure/_regionprops.py:260: UserWarning: regionprops and image moments (including moments, normalized moments, central moments, and inertia tensor) of 2D images will change from xy coordinates to rc coordinates in version 0.16.\n",
      "See https://scikit-image.org/docs/0.14.x/release_notes_and_installation.html#deprecations for details on how to avoid this message.\n",
      "  warn(XY_TO_RC_DEPRECATION_MESSAGE)\n",
      "/home/cparr/miniconda3/envs/geo/lib/python3.7/site-packages/skimage/measure/_regionprops.py:250: UserWarning: regionprops and image moments (including moments, normalized moments, central moments, and inertia tensor) of 2D images will change from xy coordinates to rc coordinates in version 0.16.\n",
      "See https://scikit-image.org/docs/0.14.x/release_notes_and_installation.html#deprecations for details on how to avoid this message.\n",
      "  warn(XY_TO_RC_DEPRECATION_MESSAGE)\n",
      "/home/cparr/miniconda3/envs/geo/lib/python3.7/site-packages/skimage/measure/_regionprops.py:260: UserWarning: regionprops and image moments (including moments, normalized moments, central moments, and inertia tensor) of 2D images will change from xy coordinates to rc coordinates in version 0.16.\n",
      "See https://scikit-image.org/docs/0.14.x/release_notes_and_installation.html#deprecations for details on how to avoid this message.\n",
      "  warn(XY_TO_RC_DEPRECATION_MESSAGE)\n",
      "/home/cparr/miniconda3/envs/geo/lib/python3.7/site-packages/skimage/measure/_regionprops.py:250: UserWarning: regionprops and image moments (including moments, normalized moments, central moments, and inertia tensor) of 2D images will change from xy coordinates to rc coordinates in version 0.16.\n",
      "See https://scikit-image.org/docs/0.14.x/release_notes_and_installation.html#deprecations for details on how to avoid this message.\n",
      "  warn(XY_TO_RC_DEPRECATION_MESSAGE)\n",
      "/home/cparr/miniconda3/envs/geo/lib/python3.7/site-packages/skimage/measure/_regionprops.py:260: UserWarning: regionprops and image moments (including moments, normalized moments, central moments, and inertia tensor) of 2D images will change from xy coordinates to rc coordinates in version 0.16.\n",
      "See https://scikit-image.org/docs/0.14.x/release_notes_and_installation.html#deprecations for details on how to avoid this message.\n",
      "  warn(XY_TO_RC_DEPRECATION_MESSAGE)\n",
      "/home/cparr/miniconda3/envs/geo/lib/python3.7/site-packages/skimage/measure/_regionprops.py:250: UserWarning: regionprops and image moments (including moments, normalized moments, central moments, and inertia tensor) of 2D images will change from xy coordinates to rc coordinates in version 0.16.\n",
      "See https://scikit-image.org/docs/0.14.x/release_notes_and_installation.html#deprecations for details on how to avoid this message.\n",
      "  warn(XY_TO_RC_DEPRECATION_MESSAGE)\n",
      "/home/cparr/miniconda3/envs/geo/lib/python3.7/site-packages/skimage/measure/_regionprops.py:260: UserWarning: regionprops and image moments (including moments, normalized moments, central moments, and inertia tensor) of 2D images will change from xy coordinates to rc coordinates in version 0.16.\n",
      "See https://scikit-image.org/docs/0.14.x/release_notes_and_installation.html#deprecations for details on how to avoid this message.\n",
      "  warn(XY_TO_RC_DEPRECATION_MESSAGE)\n",
      "/home/cparr/miniconda3/envs/geo/lib/python3.7/site-packages/skimage/measure/_regionprops.py:250: UserWarning: regionprops and image moments (including moments, normalized moments, central moments, and inertia tensor) of 2D images will change from xy coordinates to rc coordinates in version 0.16.\n",
      "See https://scikit-image.org/docs/0.14.x/release_notes_and_installation.html#deprecations for details on how to avoid this message.\n",
      "  warn(XY_TO_RC_DEPRECATION_MESSAGE)\n",
      "/home/cparr/miniconda3/envs/geo/lib/python3.7/site-packages/skimage/measure/_regionprops.py:260: UserWarning: regionprops and image moments (including moments, normalized moments, central moments, and inertia tensor) of 2D images will change from xy coordinates to rc coordinates in version 0.16.\n",
      "See https://scikit-image.org/docs/0.14.x/release_notes_and_installation.html#deprecations for details on how to avoid this message.\n",
      "  warn(XY_TO_RC_DEPRECATION_MESSAGE)\n",
      "/home/cparr/miniconda3/envs/geo/lib/python3.7/site-packages/skimage/measure/_regionprops.py:250: UserWarning: regionprops and image moments (including moments, normalized moments, central moments, and inertia tensor) of 2D images will change from xy coordinates to rc coordinates in version 0.16.\n",
      "See https://scikit-image.org/docs/0.14.x/release_notes_and_installation.html#deprecations for details on how to avoid this message.\n",
      "  warn(XY_TO_RC_DEPRECATION_MESSAGE)\n",
      "/home/cparr/miniconda3/envs/geo/lib/python3.7/site-packages/skimage/measure/_regionprops.py:260: UserWarning: regionprops and image moments (including moments, normalized moments, central moments, and inertia tensor) of 2D images will change from xy coordinates to rc coordinates in version 0.16.\n",
      "See https://scikit-image.org/docs/0.14.x/release_notes_and_installation.html#deprecations for details on how to avoid this message.\n",
      "  warn(XY_TO_RC_DEPRECATION_MESSAGE)\n",
      "/home/cparr/miniconda3/envs/geo/lib/python3.7/site-packages/skimage/measure/_regionprops.py:250: UserWarning: regionprops and image moments (including moments, normalized moments, central moments, and inertia tensor) of 2D images will change from xy coordinates to rc coordinates in version 0.16.\n",
      "See https://scikit-image.org/docs/0.14.x/release_notes_and_installation.html#deprecations for details on how to avoid this message.\n",
      "  warn(XY_TO_RC_DEPRECATION_MESSAGE)\n",
      "/home/cparr/miniconda3/envs/geo/lib/python3.7/site-packages/skimage/measure/_regionprops.py:260: UserWarning: regionprops and image moments (including moments, normalized moments, central moments, and inertia tensor) of 2D images will change from xy coordinates to rc coordinates in version 0.16.\n",
      "See https://scikit-image.org/docs/0.14.x/release_notes_and_installation.html#deprecations for details on how to avoid this message.\n",
      "  warn(XY_TO_RC_DEPRECATION_MESSAGE)\n",
      "/home/cparr/miniconda3/envs/geo/lib/python3.7/site-packages/skimage/measure/_regionprops.py:250: UserWarning: regionprops and image moments (including moments, normalized moments, central moments, and inertia tensor) of 2D images will change from xy coordinates to rc coordinates in version 0.16.\n",
      "See https://scikit-image.org/docs/0.14.x/release_notes_and_installation.html#deprecations for details on how to avoid this message.\n",
      "  warn(XY_TO_RC_DEPRECATION_MESSAGE)\n",
      "/home/cparr/miniconda3/envs/geo/lib/python3.7/site-packages/skimage/measure/_regionprops.py:260: UserWarning: regionprops and image moments (including moments, normalized moments, central moments, and inertia tensor) of 2D images will change from xy coordinates to rc coordinates in version 0.16.\n",
      "See https://scikit-image.org/docs/0.14.x/release_notes_and_installation.html#deprecations for details on how to avoid this message.\n",
      "  warn(XY_TO_RC_DEPRECATION_MESSAGE)\n",
      "/home/cparr/miniconda3/envs/geo/lib/python3.7/site-packages/skimage/measure/_regionprops.py:250: UserWarning: regionprops and image moments (including moments, normalized moments, central moments, and inertia tensor) of 2D images will change from xy coordinates to rc coordinates in version 0.16.\n",
      "See https://scikit-image.org/docs/0.14.x/release_notes_and_installation.html#deprecations for details on how to avoid this message.\n",
      "  warn(XY_TO_RC_DEPRECATION_MESSAGE)\n",
      "/home/cparr/miniconda3/envs/geo/lib/python3.7/site-packages/skimage/measure/_regionprops.py:260: UserWarning: regionprops and image moments (including moments, normalized moments, central moments, and inertia tensor) of 2D images will change from xy coordinates to rc coordinates in version 0.16.\n",
      "See https://scikit-image.org/docs/0.14.x/release_notes_and_installation.html#deprecations for details on how to avoid this message.\n",
      "  warn(XY_TO_RC_DEPRECATION_MESSAGE)\n",
      "/home/cparr/miniconda3/envs/geo/lib/python3.7/site-packages/skimage/measure/_regionprops.py:250: UserWarning: regionprops and image moments (including moments, normalized moments, central moments, and inertia tensor) of 2D images will change from xy coordinates to rc coordinates in version 0.16.\n",
      "See https://scikit-image.org/docs/0.14.x/release_notes_and_installation.html#deprecations for details on how to avoid this message.\n",
      "  warn(XY_TO_RC_DEPRECATION_MESSAGE)\n",
      "/home/cparr/miniconda3/envs/geo/lib/python3.7/site-packages/skimage/measure/_regionprops.py:260: UserWarning: regionprops and image moments (including moments, normalized moments, central moments, and inertia tensor) of 2D images will change from xy coordinates to rc coordinates in version 0.16.\n",
      "See https://scikit-image.org/docs/0.14.x/release_notes_and_installation.html#deprecations for details on how to avoid this message.\n",
      "  warn(XY_TO_RC_DEPRECATION_MESSAGE)\n",
      "/home/cparr/miniconda3/envs/geo/lib/python3.7/site-packages/skimage/measure/_regionprops.py:250: UserWarning: regionprops and image moments (including moments, normalized moments, central moments, and inertia tensor) of 2D images will change from xy coordinates to rc coordinates in version 0.16.\n",
      "See https://scikit-image.org/docs/0.14.x/release_notes_and_installation.html#deprecations for details on how to avoid this message.\n",
      "  warn(XY_TO_RC_DEPRECATION_MESSAGE)\n",
      "/home/cparr/miniconda3/envs/geo/lib/python3.7/site-packages/skimage/measure/_regionprops.py:260: UserWarning: regionprops and image moments (including moments, normalized moments, central moments, and inertia tensor) of 2D images will change from xy coordinates to rc coordinates in version 0.16.\n",
      "See https://scikit-image.org/docs/0.14.x/release_notes_and_installation.html#deprecations for details on how to avoid this message.\n",
      "  warn(XY_TO_RC_DEPRECATION_MESSAGE)\n",
      "/home/cparr/miniconda3/envs/geo/lib/python3.7/site-packages/skimage/measure/_regionprops.py:250: UserWarning: regionprops and image moments (including moments, normalized moments, central moments, and inertia tensor) of 2D images will change from xy coordinates to rc coordinates in version 0.16.\n",
      "See https://scikit-image.org/docs/0.14.x/release_notes_and_installation.html#deprecations for details on how to avoid this message.\n",
      "  warn(XY_TO_RC_DEPRECATION_MESSAGE)\n",
      "/home/cparr/miniconda3/envs/geo/lib/python3.7/site-packages/skimage/measure/_regionprops.py:260: UserWarning: regionprops and image moments (including moments, normalized moments, central moments, and inertia tensor) of 2D images will change from xy coordinates to rc coordinates in version 0.16.\n",
      "See https://scikit-image.org/docs/0.14.x/release_notes_and_installation.html#deprecations for details on how to avoid this message.\n",
      "  warn(XY_TO_RC_DEPRECATION_MESSAGE)\n",
      "/home/cparr/miniconda3/envs/geo/lib/python3.7/site-packages/skimage/measure/_regionprops.py:250: UserWarning: regionprops and image moments (including moments, normalized moments, central moments, and inertia tensor) of 2D images will change from xy coordinates to rc coordinates in version 0.16.\n",
      "See https://scikit-image.org/docs/0.14.x/release_notes_and_installation.html#deprecations for details on how to avoid this message.\n",
      "  warn(XY_TO_RC_DEPRECATION_MESSAGE)\n",
      "/home/cparr/miniconda3/envs/geo/lib/python3.7/site-packages/skimage/measure/_regionprops.py:260: UserWarning: regionprops and image moments (including moments, normalized moments, central moments, and inertia tensor) of 2D images will change from xy coordinates to rc coordinates in version 0.16.\n",
      "See https://scikit-image.org/docs/0.14.x/release_notes_and_installation.html#deprecations for details on how to avoid this message.\n",
      "  warn(XY_TO_RC_DEPRECATION_MESSAGE)\n",
      "/home/cparr/miniconda3/envs/geo/lib/python3.7/site-packages/skimage/measure/_regionprops.py:250: UserWarning: regionprops and image moments (including moments, normalized moments, central moments, and inertia tensor) of 2D images will change from xy coordinates to rc coordinates in version 0.16.\n",
      "See https://scikit-image.org/docs/0.14.x/release_notes_and_installation.html#deprecations for details on how to avoid this message.\n",
      "  warn(XY_TO_RC_DEPRECATION_MESSAGE)\n",
      "/home/cparr/miniconda3/envs/geo/lib/python3.7/site-packages/skimage/measure/_regionprops.py:260: UserWarning: regionprops and image moments (including moments, normalized moments, central moments, and inertia tensor) of 2D images will change from xy coordinates to rc coordinates in version 0.16.\n",
      "See https://scikit-image.org/docs/0.14.x/release_notes_and_installation.html#deprecations for details on how to avoid this message.\n",
      "  warn(XY_TO_RC_DEPRECATION_MESSAGE)\n",
      "/home/cparr/miniconda3/envs/geo/lib/python3.7/site-packages/skimage/measure/_regionprops.py:250: UserWarning: regionprops and image moments (including moments, normalized moments, central moments, and inertia tensor) of 2D images will change from xy coordinates to rc coordinates in version 0.16.\n",
      "See https://scikit-image.org/docs/0.14.x/release_notes_and_installation.html#deprecations for details on how to avoid this message.\n",
      "  warn(XY_TO_RC_DEPRECATION_MESSAGE)\n",
      "/home/cparr/miniconda3/envs/geo/lib/python3.7/site-packages/skimage/measure/_regionprops.py:260: UserWarning: regionprops and image moments (including moments, normalized moments, central moments, and inertia tensor) of 2D images will change from xy coordinates to rc coordinates in version 0.16.\n",
      "See https://scikit-image.org/docs/0.14.x/release_notes_and_installation.html#deprecations for details on how to avoid this message.\n",
      "  warn(XY_TO_RC_DEPRECATION_MESSAGE)\n",
      "/home/cparr/miniconda3/envs/geo/lib/python3.7/site-packages/skimage/measure/_regionprops.py:250: UserWarning: regionprops and image moments (including moments, normalized moments, central moments, and inertia tensor) of 2D images will change from xy coordinates to rc coordinates in version 0.16.\n",
      "See https://scikit-image.org/docs/0.14.x/release_notes_and_installation.html#deprecations for details on how to avoid this message.\n",
      "  warn(XY_TO_RC_DEPRECATION_MESSAGE)\n",
      "/home/cparr/miniconda3/envs/geo/lib/python3.7/site-packages/skimage/measure/_regionprops.py:260: UserWarning: regionprops and image moments (including moments, normalized moments, central moments, and inertia tensor) of 2D images will change from xy coordinates to rc coordinates in version 0.16.\n",
      "See https://scikit-image.org/docs/0.14.x/release_notes_and_installation.html#deprecations for details on how to avoid this message.\n",
      "  warn(XY_TO_RC_DEPRECATION_MESSAGE)\n",
      "/home/cparr/miniconda3/envs/geo/lib/python3.7/site-packages/skimage/measure/_regionprops.py:250: UserWarning: regionprops and image moments (including moments, normalized moments, central moments, and inertia tensor) of 2D images will change from xy coordinates to rc coordinates in version 0.16.\n",
      "See https://scikit-image.org/docs/0.14.x/release_notes_and_installation.html#deprecations for details on how to avoid this message.\n",
      "  warn(XY_TO_RC_DEPRECATION_MESSAGE)\n",
      "/home/cparr/miniconda3/envs/geo/lib/python3.7/site-packages/skimage/measure/_regionprops.py:260: UserWarning: regionprops and image moments (including moments, normalized moments, central moments, and inertia tensor) of 2D images will change from xy coordinates to rc coordinates in version 0.16.\n",
      "See https://scikit-image.org/docs/0.14.x/release_notes_and_installation.html#deprecations for details on how to avoid this message.\n",
      "  warn(XY_TO_RC_DEPRECATION_MESSAGE)\n",
      "/home/cparr/miniconda3/envs/geo/lib/python3.7/site-packages/skimage/measure/_regionprops.py:250: UserWarning: regionprops and image moments (including moments, normalized moments, central moments, and inertia tensor) of 2D images will change from xy coordinates to rc coordinates in version 0.16.\n",
      "See https://scikit-image.org/docs/0.14.x/release_notes_and_installation.html#deprecations for details on how to avoid this message.\n",
      "  warn(XY_TO_RC_DEPRECATION_MESSAGE)\n",
      "/home/cparr/miniconda3/envs/geo/lib/python3.7/site-packages/skimage/measure/_regionprops.py:260: UserWarning: regionprops and image moments (including moments, normalized moments, central moments, and inertia tensor) of 2D images will change from xy coordinates to rc coordinates in version 0.16.\n",
      "See https://scikit-image.org/docs/0.14.x/release_notes_and_installation.html#deprecations for details on how to avoid this message.\n",
      "  warn(XY_TO_RC_DEPRECATION_MESSAGE)\n",
      "/home/cparr/miniconda3/envs/geo/lib/python3.7/site-packages/skimage/measure/_regionprops.py:250: UserWarning: regionprops and image moments (including moments, normalized moments, central moments, and inertia tensor) of 2D images will change from xy coordinates to rc coordinates in version 0.16.\n",
      "See https://scikit-image.org/docs/0.14.x/release_notes_and_installation.html#deprecations for details on how to avoid this message.\n",
      "  warn(XY_TO_RC_DEPRECATION_MESSAGE)\n",
      "/home/cparr/miniconda3/envs/geo/lib/python3.7/site-packages/skimage/measure/_regionprops.py:260: UserWarning: regionprops and image moments (including moments, normalized moments, central moments, and inertia tensor) of 2D images will change from xy coordinates to rc coordinates in version 0.16.\n",
      "See https://scikit-image.org/docs/0.14.x/release_notes_and_installation.html#deprecations for details on how to avoid this message.\n",
      "  warn(XY_TO_RC_DEPRECATION_MESSAGE)\n",
      "/home/cparr/miniconda3/envs/geo/lib/python3.7/site-packages/skimage/measure/_regionprops.py:250: UserWarning: regionprops and image moments (including moments, normalized moments, central moments, and inertia tensor) of 2D images will change from xy coordinates to rc coordinates in version 0.16.\n",
      "See https://scikit-image.org/docs/0.14.x/release_notes_and_installation.html#deprecations for details on how to avoid this message.\n",
      "  warn(XY_TO_RC_DEPRECATION_MESSAGE)\n",
      "/home/cparr/miniconda3/envs/geo/lib/python3.7/site-packages/skimage/measure/_regionprops.py:260: UserWarning: regionprops and image moments (including moments, normalized moments, central moments, and inertia tensor) of 2D images will change from xy coordinates to rc coordinates in version 0.16.\n",
      "See https://scikit-image.org/docs/0.14.x/release_notes_and_installation.html#deprecations for details on how to avoid this message.\n",
      "  warn(XY_TO_RC_DEPRECATION_MESSAGE)\n",
      "/home/cparr/miniconda3/envs/geo/lib/python3.7/site-packages/skimage/measure/_regionprops.py:250: UserWarning: regionprops and image moments (including moments, normalized moments, central moments, and inertia tensor) of 2D images will change from xy coordinates to rc coordinates in version 0.16.\n",
      "See https://scikit-image.org/docs/0.14.x/release_notes_and_installation.html#deprecations for details on how to avoid this message.\n",
      "  warn(XY_TO_RC_DEPRECATION_MESSAGE)\n",
      "/home/cparr/miniconda3/envs/geo/lib/python3.7/site-packages/skimage/measure/_regionprops.py:260: UserWarning: regionprops and image moments (including moments, normalized moments, central moments, and inertia tensor) of 2D images will change from xy coordinates to rc coordinates in version 0.16.\n",
      "See https://scikit-image.org/docs/0.14.x/release_notes_and_installation.html#deprecations for details on how to avoid this message.\n",
      "  warn(XY_TO_RC_DEPRECATION_MESSAGE)\n",
      "/home/cparr/miniconda3/envs/geo/lib/python3.7/site-packages/skimage/measure/_regionprops.py:250: UserWarning: regionprops and image moments (including moments, normalized moments, central moments, and inertia tensor) of 2D images will change from xy coordinates to rc coordinates in version 0.16.\n",
      "See https://scikit-image.org/docs/0.14.x/release_notes_and_installation.html#deprecations for details on how to avoid this message.\n",
      "  warn(XY_TO_RC_DEPRECATION_MESSAGE)\n",
      "/home/cparr/miniconda3/envs/geo/lib/python3.7/site-packages/skimage/measure/_regionprops.py:260: UserWarning: regionprops and image moments (including moments, normalized moments, central moments, and inertia tensor) of 2D images will change from xy coordinates to rc coordinates in version 0.16.\n",
      "See https://scikit-image.org/docs/0.14.x/release_notes_and_installation.html#deprecations for details on how to avoid this message.\n",
      "  warn(XY_TO_RC_DEPRECATION_MESSAGE)\n",
      "/home/cparr/miniconda3/envs/geo/lib/python3.7/site-packages/skimage/measure/_regionprops.py:250: UserWarning: regionprops and image moments (including moments, normalized moments, central moments, and inertia tensor) of 2D images will change from xy coordinates to rc coordinates in version 0.16.\n",
      "See https://scikit-image.org/docs/0.14.x/release_notes_and_installation.html#deprecations for details on how to avoid this message.\n",
      "  warn(XY_TO_RC_DEPRECATION_MESSAGE)\n",
      "/home/cparr/miniconda3/envs/geo/lib/python3.7/site-packages/skimage/measure/_regionprops.py:260: UserWarning: regionprops and image moments (including moments, normalized moments, central moments, and inertia tensor) of 2D images will change from xy coordinates to rc coordinates in version 0.16.\n",
      "See https://scikit-image.org/docs/0.14.x/release_notes_and_installation.html#deprecations for details on how to avoid this message.\n",
      "  warn(XY_TO_RC_DEPRECATION_MESSAGE)\n",
      "/home/cparr/miniconda3/envs/geo/lib/python3.7/site-packages/skimage/measure/_regionprops.py:250: UserWarning: regionprops and image moments (including moments, normalized moments, central moments, and inertia tensor) of 2D images will change from xy coordinates to rc coordinates in version 0.16.\n",
      "See https://scikit-image.org/docs/0.14.x/release_notes_and_installation.html#deprecations for details on how to avoid this message.\n",
      "  warn(XY_TO_RC_DEPRECATION_MESSAGE)\n",
      "/home/cparr/miniconda3/envs/geo/lib/python3.7/site-packages/skimage/measure/_regionprops.py:260: UserWarning: regionprops and image moments (including moments, normalized moments, central moments, and inertia tensor) of 2D images will change from xy coordinates to rc coordinates in version 0.16.\n",
      "See https://scikit-image.org/docs/0.14.x/release_notes_and_installation.html#deprecations for details on how to avoid this message.\n",
      "  warn(XY_TO_RC_DEPRECATION_MESSAGE)\n",
      "/home/cparr/miniconda3/envs/geo/lib/python3.7/site-packages/skimage/measure/_regionprops.py:250: UserWarning: regionprops and image moments (including moments, normalized moments, central moments, and inertia tensor) of 2D images will change from xy coordinates to rc coordinates in version 0.16.\n",
      "See https://scikit-image.org/docs/0.14.x/release_notes_and_installation.html#deprecations for details on how to avoid this message.\n",
      "  warn(XY_TO_RC_DEPRECATION_MESSAGE)\n",
      "/home/cparr/miniconda3/envs/geo/lib/python3.7/site-packages/skimage/measure/_regionprops.py:260: UserWarning: regionprops and image moments (including moments, normalized moments, central moments, and inertia tensor) of 2D images will change from xy coordinates to rc coordinates in version 0.16.\n",
      "See https://scikit-image.org/docs/0.14.x/release_notes_and_installation.html#deprecations for details on how to avoid this message.\n",
      "  warn(XY_TO_RC_DEPRECATION_MESSAGE)\n"
     ]
    }
   ],
   "source": [
    "label_image = label(be_msk, connectivity=2, background=0)\n",
    "areas = []\n",
    "eccs = []\n",
    "orientations = []\n",
    "ctrxs = []\n",
    "ctrys = []\n",
    "\n",
    "for region in regionprops(label_image):\n",
    "    areas.append(region.area)\n",
    "    eccs.append(region.eccentricity)\n",
    "    orientations.append(region.orientation)\n",
    "    ctrxs.append(region.centroid[1] + 421000)\n",
    "    ctrys.append(7678000 - region.centroid[0])\n",
    "    \n",
    "\n",
    "df = pd.DataFrame([areas,eccs,orientations,ctrxs, ctrys])"
   ]
  },
  {
   "cell_type": "code",
   "execution_count": 6,
   "metadata": {},
   "outputs": [
    {
     "data": {
      "text/html": [
       "<div>\n",
       "<style scoped>\n",
       "    .dataframe tbody tr th:only-of-type {\n",
       "        vertical-align: middle;\n",
       "    }\n",
       "\n",
       "    .dataframe tbody tr th {\n",
       "        vertical-align: top;\n",
       "    }\n",
       "\n",
       "    .dataframe thead th {\n",
       "        text-align: right;\n",
       "    }\n",
       "</style>\n",
       "<table border=\"1\" class=\"dataframe\">\n",
       "  <thead>\n",
       "    <tr style=\"text-align: right;\">\n",
       "      <th></th>\n",
       "      <th>area</th>\n",
       "      <th>eccentricity</th>\n",
       "      <th>orientation</th>\n",
       "      <th>x</th>\n",
       "      <th>y</th>\n",
       "    </tr>\n",
       "  </thead>\n",
       "  <tbody>\n",
       "    <tr>\n",
       "      <th>17</th>\n",
       "      <td>24675.0</td>\n",
       "      <td>0.988304</td>\n",
       "      <td>-1.554497</td>\n",
       "      <td>422027.191935</td>\n",
       "      <td>7.669196e+06</td>\n",
       "    </tr>\n",
       "    <tr>\n",
       "      <th>18</th>\n",
       "      <td>10338.0</td>\n",
       "      <td>0.993008</td>\n",
       "      <td>1.560461</td>\n",
       "      <td>422103.140743</td>\n",
       "      <td>7.669157e+06</td>\n",
       "    </tr>\n",
       "    <tr>\n",
       "      <th>7</th>\n",
       "      <td>866.0</td>\n",
       "      <td>0.977881</td>\n",
       "      <td>0.445461</td>\n",
       "      <td>422199.120092</td>\n",
       "      <td>7.672079e+06</td>\n",
       "    </tr>\n",
       "    <tr>\n",
       "      <th>19</th>\n",
       "      <td>28927.0</td>\n",
       "      <td>0.990050</td>\n",
       "      <td>-1.516918</td>\n",
       "      <td>422207.520932</td>\n",
       "      <td>7.669134e+06</td>\n",
       "    </tr>\n",
       "    <tr>\n",
       "      <th>2</th>\n",
       "      <td>43081.0</td>\n",
       "      <td>0.994302</td>\n",
       "      <td>1.412626</td>\n",
       "      <td>422284.943757</td>\n",
       "      <td>7.673313e+06</td>\n",
       "    </tr>\n",
       "  </tbody>\n",
       "</table>\n",
       "</div>"
      ],
      "text/plain": [
       "       area  eccentricity  orientation              x             y\n",
       "17  24675.0      0.988304    -1.554497  422027.191935  7.669196e+06\n",
       "18  10338.0      0.993008     1.560461  422103.140743  7.669157e+06\n",
       "7     866.0      0.977881     0.445461  422199.120092  7.672079e+06\n",
       "19  28927.0      0.990050    -1.516918  422207.520932  7.669134e+06\n",
       "2   43081.0      0.994302     1.412626  422284.943757  7.673313e+06"
      ]
     },
     "execution_count": 6,
     "metadata": {},
     "output_type": "execute_result"
    }
   ],
   "source": [
    "shapedf = df.T\n",
    "shapedf.columns = ['area', 'eccentricity', 'orientation', 'x', 'y']\n",
    "shapedf.sort_values('x', inplace=True)\n",
    "shapedf.head(3)"
   ]
  },
  {
   "cell_type": "code",
   "execution_count": 12,
   "metadata": {},
   "outputs": [
    {
     "data": {
      "text/html": [
       "<div>\n",
       "<style scoped>\n",
       "    .dataframe tbody tr th:only-of-type {\n",
       "        vertical-align: middle;\n",
       "    }\n",
       "\n",
       "    .dataframe tbody tr th {\n",
       "        vertical-align: top;\n",
       "    }\n",
       "\n",
       "    .dataframe thead th {\n",
       "        text-align: right;\n",
       "    }\n",
       "</style>\n",
       "<table border=\"1\" class=\"dataframe\">\n",
       "  <thead>\n",
       "    <tr style=\"text-align: right;\">\n",
       "      <th></th>\n",
       "      <th>area</th>\n",
       "      <th>drift_type</th>\n",
       "      <th>study_area</th>\n",
       "      <th>geometry</th>\n",
       "      <th>2013_mean</th>\n",
       "      <th>2013_std</th>\n",
       "      <th>2013_median</th>\n",
       "      <th>2013_sum</th>\n",
       "      <th>2015_mean</th>\n",
       "      <th>2015_std</th>\n",
       "      <th>...</th>\n",
       "      <th>2016_sum</th>\n",
       "      <th>2017_mean</th>\n",
       "      <th>2017_std</th>\n",
       "      <th>2017_median</th>\n",
       "      <th>2017_sum</th>\n",
       "      <th>2012_mean</th>\n",
       "      <th>2012_std</th>\n",
       "      <th>2012_median</th>\n",
       "      <th>2012_sum</th>\n",
       "      <th>gdfctrx</th>\n",
       "    </tr>\n",
       "  </thead>\n",
       "  <tbody>\n",
       "    <tr>\n",
       "      <th>0</th>\n",
       "      <td>23652.0</td>\n",
       "      <td>watertrack</td>\n",
       "      <td>hv</td>\n",
       "      <td>POLYGON ((422055.6457072107 7669439.673727455,...</td>\n",
       "      <td>NaN</td>\n",
       "      <td>NaN</td>\n",
       "      <td>NaN</td>\n",
       "      <td>NaN</td>\n",
       "      <td>0.962840</td>\n",
       "      <td>0.161792</td>\n",
       "      <td>...</td>\n",
       "      <td>9735.912109</td>\n",
       "      <td>0.801138</td>\n",
       "      <td>0.129067</td>\n",
       "      <td>0.827655</td>\n",
       "      <td>18942.101562</td>\n",
       "      <td>NaN</td>\n",
       "      <td>NaN</td>\n",
       "      <td>NaN</td>\n",
       "      <td>NaN</td>\n",
       "      <td>422027</td>\n",
       "    </tr>\n",
       "    <tr>\n",
       "      <th>1</th>\n",
       "      <td>9076.0</td>\n",
       "      <td>watertrack</td>\n",
       "      <td>hv</td>\n",
       "      <td>POLYGON ((422104.286764578 7668973.692397878, ...</td>\n",
       "      <td>NaN</td>\n",
       "      <td>NaN</td>\n",
       "      <td>NaN</td>\n",
       "      <td>NaN</td>\n",
       "      <td>0.978903</td>\n",
       "      <td>0.176965</td>\n",
       "      <td>...</td>\n",
       "      <td>6455.918457</td>\n",
       "      <td>0.717685</td>\n",
       "      <td>0.215162</td>\n",
       "      <td>0.693622</td>\n",
       "      <td>6503.658691</td>\n",
       "      <td>NaN</td>\n",
       "      <td>NaN</td>\n",
       "      <td>NaN</td>\n",
       "      <td>NaN</td>\n",
       "      <td>422103</td>\n",
       "    </tr>\n",
       "    <tr>\n",
       "      <th>16</th>\n",
       "      <td>597.0</td>\n",
       "      <td>polygon</td>\n",
       "      <td>hv</td>\n",
       "      <td>POLYGON ((422162.2535977637 7672066.658137135,...</td>\n",
       "      <td>0.74391</td>\n",
       "      <td>0.099044</td>\n",
       "      <td>0.754271</td>\n",
       "      <td>450.065613</td>\n",
       "      <td>0.933179</td>\n",
       "      <td>0.098647</td>\n",
       "      <td>...</td>\n",
       "      <td>446.411957</td>\n",
       "      <td>0.787856</td>\n",
       "      <td>0.096579</td>\n",
       "      <td>0.796283</td>\n",
       "      <td>476.653076</td>\n",
       "      <td>0.792326</td>\n",
       "      <td>0.102086</td>\n",
       "      <td>0.807626</td>\n",
       "      <td>479.357178</td>\n",
       "      <td>422198</td>\n",
       "    </tr>\n",
       "  </tbody>\n",
       "</table>\n",
       "<p>3 rows × 29 columns</p>\n",
       "</div>"
      ],
      "text/plain": [
       "       area  drift_type study_area  \\\n",
       "0   23652.0  watertrack         hv   \n",
       "1    9076.0  watertrack         hv   \n",
       "16    597.0     polygon         hv   \n",
       "\n",
       "                                             geometry  2013_mean  2013_std  \\\n",
       "0   POLYGON ((422055.6457072107 7669439.673727455,...        NaN       NaN   \n",
       "1   POLYGON ((422104.286764578 7668973.692397878, ...        NaN       NaN   \n",
       "16  POLYGON ((422162.2535977637 7672066.658137135,...    0.74391  0.099044   \n",
       "\n",
       "    2013_median    2013_sum  2015_mean  2015_std  ...     2016_sum  2017_mean  \\\n",
       "0           NaN         NaN   0.962840  0.161792  ...  9735.912109   0.801138   \n",
       "1           NaN         NaN   0.978903  0.176965  ...  6455.918457   0.717685   \n",
       "16     0.754271  450.065613   0.933179  0.098647  ...   446.411957   0.787856   \n",
       "\n",
       "    2017_std  2017_median      2017_sum  2012_mean  2012_std  2012_median  \\\n",
       "0   0.129067     0.827655  18942.101562        NaN       NaN          NaN   \n",
       "1   0.215162     0.693622   6503.658691        NaN       NaN          NaN   \n",
       "16  0.096579     0.796283    476.653076   0.792326  0.102086     0.807626   \n",
       "\n",
       "      2012_sum  gdfctrx  \n",
       "0          NaN   422027  \n",
       "1          NaN   422103  \n",
       "16  479.357178   422198  \n",
       "\n",
       "[3 rows x 29 columns]"
      ]
     },
     "execution_count": 12,
     "metadata": {},
     "output_type": "execute_result"
    }
   ],
   "source": [
    "hv['gdfctrx'] = [int(x) for x in hv.geometry.centroid.x]\n",
    "hv_copy = hv.sort_values('gdfctrx')\n",
    "\n",
    "#hv_copy\n",
    "hv_copy.head(3)"
   ]
  },
  {
   "cell_type": "code",
   "execution_count": 14,
   "metadata": {},
   "outputs": [],
   "source": [
    "hv_copy['orientation'] = shapedf['orientation']\n",
    "hv_copy['eccentricity'] = shapedf['eccentricity']\n"
   ]
  },
  {
   "cell_type": "code",
   "execution_count": 15,
   "metadata": {},
   "outputs": [],
   "source": [
    "shapedf['drift_type'] = hv_copy.drift_type"
   ]
  },
  {
   "cell_type": "code",
   "execution_count": 19,
   "metadata": {},
   "outputs": [
    {
     "data": {
      "text/plain": [
       "<seaborn.axisgrid.FacetGrid at 0x7f4f17c15cf8>"
      ]
     },
     "execution_count": 19,
     "metadata": {},
     "output_type": "execute_result"
    },
    {
     "data": {
      "image/png": "[encoded data removed]",
      "text/plain": [
       "<Figure size 360x360 with 1 Axes>"
      ]
     },
     "metadata": {
      "needs_background": "light"
     },
     "output_type": "display_data"
    }
   ],
   "source": [
    "sns.catplot(x=\"drift_type\", y=\"eccentricity\", data=shapedf)"
   ]
  },
  {
   "cell_type": "code",
   "execution_count": null,
   "metadata": {},
   "outputs": [],
   "source": [
    "gdf_ctr_x = [int(x) for x in hv.geometry.centroid.x]\n",
    "gdf_ctr_y = [int(y) for y in hv.geometry.centroid.y]\n",
    "rprops_ctrx = [c[1] + 421000 for c in ctrs]\n",
    "rprops_ctry = [7678000 - c[0] for c in ctrs]"
   ]
  },
  {
   "cell_type": "code",
   "execution_count": null,
   "metadata": {},
   "outputs": [],
   "source": [
    "xdelt = np.sort(gdf_ctr_x) - np.sort(rprops_ctrx)\n",
    "ydelt = np.sort(gdf_ctr_y) - np.sort(rprops_ctry)\n",
    "np.sqrt(xdelt**2 + ydelt**2)"
   ]
  },
  {
   "cell_type": "code",
   "execution_count": null,
   "metadata": {},
   "outputs": [],
   "source": []
  }
 ],
 "metadata": {
  "kernelspec": {
   "display_name": "Python 3",
   "language": "python",
   "name": "python3"
  },
  "language_info": {
   "codemirror_mode": {
    "name": "ipython",
    "version": 3
   },
   "file_extension": ".py",
   "mimetype": "text/x-python",
   "name": "python",
   "nbconvert_exporter": "python",
   "pygments_lexer": "ipython3",
   "version": "3.7.3"
  }
 },
 "nbformat": 4,
 "nbformat_minor": 2
}
