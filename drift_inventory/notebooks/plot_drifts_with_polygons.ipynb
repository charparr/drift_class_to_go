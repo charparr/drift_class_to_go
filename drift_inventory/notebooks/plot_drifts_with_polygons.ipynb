{
 "cells": [
  {
   "cell_type": "code",
   "execution_count": 3,
   "metadata": {},
   "outputs": [
    {
     "ename": "ModuleNotFoundError",
     "evalue": "No module named 'plot_drift_with_polygon_overlay'",
     "output_type": "error",
     "traceback": [
      "\u001b[0;31m---------------------------------------------------------------------------\u001b[0m",
      "\u001b[0;31mModuleNotFoundError\u001b[0m                       Traceback (most recent call last)",
      "\u001b[0;32m<ipython-input-3-8f1e3582490c>\u001b[0m in \u001b[0;36m<module>\u001b[0;34m\u001b[0m\n\u001b[1;32m      2\u001b[0m \u001b[0msys\u001b[0m\u001b[0;34m.\u001b[0m\u001b[0mpath\u001b[0m\u001b[0;34m.\u001b[0m\u001b[0minsert\u001b[0m\u001b[0;34m(\u001b[0m\u001b[0;36m0\u001b[0m\u001b[0;34m,\u001b[0m \u001b[0;34m'../drift_inventory/utils/'\u001b[0m\u001b[0;34m)\u001b[0m\u001b[0;34m\u001b[0m\u001b[0;34m\u001b[0m\u001b[0m\n\u001b[1;32m      3\u001b[0m \u001b[0;31m#import plot_polygon_over_raster\u001b[0m\u001b[0;34m\u001b[0m\u001b[0;34m\u001b[0m\u001b[0;34m\u001b[0m\u001b[0m\n\u001b[0;32m----> 4\u001b[0;31m \u001b[0;32mimport\u001b[0m \u001b[0mplot_drift_with_polygon_overlay\u001b[0m\u001b[0;34m\u001b[0m\u001b[0;34m\u001b[0m\u001b[0m\n\u001b[0m",
      "\u001b[0;31mModuleNotFoundError\u001b[0m: No module named 'plot_drift_with_polygon_overlay'"
     ]
    }
   ],
   "source": [
    "import sys\n",
    "sys.path.insert(0, '../drift_inventory/utils/')\n",
    "#import plot_polygon_over_raster\n",
    "from plot_drift_with_polygon_overlay import "
   ]
  },
  {
   "cell_type": "code",
   "execution_count": null,
   "metadata": {},
   "outputs": [],
   "source": [
    "import fiona\n",
    "from shapely.geometry import shape, Polygon\n",
    "import rasterio\n",
    "import rasterio.plot\n",
    "from rasterio.windows import Window\n",
    "import matplotlib as mpl\n",
    "import matplotlib.pyplot as plt\n",
    "from descartes.patch import PolygonPatch\n",
    "from copy import copy"
   ]
  },
  {
   "cell_type": "code",
   "execution_count": null,
   "metadata": {},
   "outputs": [],
   "source": [
    "# get boundary box for drift from HV (happens to be watertrack)\n",
    "shp = fiona.open(\"../gis/hv_drifts.shp\", \"r\")\n",
    "drift_poly = shp.next()\n",
    "drift_bbox = shape(drift_poly['geometry']).bounds\n",
    "print(drift_bbox)"
   ]
  },
  {
   "cell_type": "code",
   "execution_count": null,
   "metadata": {},
   "outputs": [],
   "source": [
    "# we should pad these boundaries when reading in our raster so drifts don't go \n",
    "# all the way to the edge of the plot\n",
    "left = int(drift_bbox[0]) - 25\n",
    "bottom = int(drift_bbox[1]) - 25\n",
    "right = int(drift_bbox[2]) + 25\n",
    "top = int(drift_bbox[3]) + 25\n",
    "height = top - bottom\n",
    "width = right - left\n",
    "print(left, bottom, right, top)\n",
    "print(height, width)"
   ]
  },
  {
   "cell_type": "code",
   "execution_count": null,
   "metadata": {},
   "outputs": [],
   "source": [
    "src = rasterio.open('../drift_rasters/hv_driftmask_ct_years.tif')\n",
    "#rstr_shape = src.shape\n",
    "rstr_bounds = src.bounds\n",
    "print(src.bounds)"
   ]
  },
  {
   "cell_type": "code",
   "execution_count": null,
   "metadata": {},
   "outputs": [],
   "source": [
    "# what is different between left polygon edge and left raster edge?\n",
    "# that is how many columns to skip in our window placement\n",
    "col_skip = abs(src.bounds.left - left)\n",
    "col_skip"
   ]
  },
  {
   "cell_type": "code",
   "execution_count": null,
   "metadata": {},
   "outputs": [],
   "source": [
    "# what is different between top polygon edge and top raster edge?\n",
    "# that is how many rows to skip in our window placement\n",
    "row_skip = src.bounds.top - top\n",
    "row_skip"
   ]
  },
  {
   "cell_type": "code",
   "execution_count": null,
   "metadata": {},
   "outputs": [],
   "source": [
    "coords = drift_poly['geometry']['coordinates'][0]\n",
    "polygon = Polygon(coords)\n",
    "polygon"
   ]
  },
  {
   "cell_type": "code",
   "execution_count": null,
   "metadata": {},
   "outputs": [],
   "source": [
    "patches = [PolygonPatch(polygon, edgecolor=\"red\", facecolor=\"none\", linewidth=2)]"
   ]
  },
  {
   "cell_type": "code",
   "execution_count": null,
   "metadata": {},
   "outputs": [],
   "source": [
    "win = Window(col_skip, row_skip, width, height)\n",
    "\n",
    "with rasterio.open('../drift_rasters/hv_driftmask_ct_years.tif') as src:\n",
    "    src_transform = src.transform\n",
    "    win_transform = src.window_transform(win)\n",
    "    w = src.read(1, window=Window(col_skip, row_skip, width, height))\n",
    "    fig = plt.figure()\n",
    "    ax = fig.add_subplot(111)\n",
    "    rasterio.plot.show(w, transform=win_transform, ax=ax)\n",
    "    ax.add_collection(mpl.collections.PatchCollection(patches, match_original=True))\n",
    "\n",
    "\n",
    "    #plt.colorbar()\n",
    "    \n",
    "\n",
    "        "
   ]
  },
  {
   "cell_type": "code",
   "execution_count": null,
   "metadata": {},
   "outputs": [],
   "source": [
    "src_transform = src.transform\n",
    "win_transform = src.window_transform(win)\n",
    "w = src.read(1, window=Window(col_skip, row_skip, width, height))\n",
    "fig = plt.figure()\n",
    "ax = fig.add_subplot(111)\n",
    "rasterio.plot.show(w, transform=win_transform, ax=ax)\n",
    "ax.add_collection(mpl.collections.PatchCollection(patches, match_original=True))\n"
   ]
  },
  {
   "cell_type": "code",
   "execution_count": null,
   "metadata": {},
   "outputs": [],
   "source": []
  }
 ],
 "metadata": {
  "kernelspec": {
   "display_name": "Python 3",
   "language": "python",
   "name": "python3"
  },
  "language_info": {
   "codemirror_mode": {
    "name": "ipython",
    "version": 3
   },
   "file_extension": ".py",
   "mimetype": "text/x-python",
   "name": "python",
   "nbconvert_exporter": "python",
   "pygments_lexer": "ipython3",
   "version": "3.7.3"
  }
 },
 "nbformat": 4,
 "nbformat_minor": 2
}
