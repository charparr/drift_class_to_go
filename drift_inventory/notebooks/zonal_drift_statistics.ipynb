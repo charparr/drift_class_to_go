{
 "cells": [
  {
   "cell_type": "code",
   "execution_count": 4,
   "metadata": {},
   "outputs": [],
   "source": [
    "import geopandas as gpd\n",
    "import pandas as pd\n",
    "import rasterio\n",
    "import rasterstats as rs\n",
    "import numpy as np\n",
    "import sys\n",
    "import seaborn as sns\n",
    "import matplotlib.pyplot as plt\n",
    "sys.path.insert(0, '../../snow_terrain_tiles/')\n",
    "from dem_utils import recursive_rastersstats_to_dict"
   ]
  },
  {
   "cell_type": "code",
   "execution_count": 5,
   "metadata": {},
   "outputs": [],
   "source": [
    "# Function to compute zonal raster statistics using rasterstats library\n",
    "# for single shapefile and many rasters inside a single directory\n",
    "# Returns geodataframe\n",
    "\n",
    "def compute_drift_statistics(regx, shp):\n",
    "    d = recursive_rastersstats_to_dict(regx, '*_corrected*')\n",
    "    geodf = gpd.read_file(shp)\n",
    "    stats=['mean', 'std', 'median', 'sum']\n",
    "\n",
    "    for k in d.keys():\n",
    "\n",
    "        col_name = str(d[k]['year'][0])\n",
    "\n",
    "        zonal_d = (rs.zonal_stats(geodf, k,\n",
    "                                 stats=stats))\n",
    "        geodf[col_name] = zonal_d\n",
    "        \n",
    "        for st in stats:\n",
    "    \n",
    "            st_series = geodf[col_name].apply(lambda x: x.get(st))\n",
    "            yr_st_name = col_name + '_' + st\n",
    "            geodf[yr_st_name] = st_series\n",
    "\n",
    "        del geodf[col_name]\n",
    "        \n",
    "    return geodf\n",
    "    "
   ]
  },
  {
   "cell_type": "code",
   "execution_count": 3,
   "metadata": {},
   "outputs": [
    {
     "name": "stderr",
     "output_type": "stream",
     "text": [
      "../../snow_terrain_tiles/dem_utils.py:149: RuntimeWarning: invalid value encountered in less\n",
      "  arr[arr < -9999] = np.nan\n"
     ]
    },
    {
     "data": {
      "text/plain": [
       "True"
      ]
     },
     "execution_count": 3,
     "metadata": {},
     "output_type": "execute_result"
    }
   ],
   "source": [
    "# compute stats with our function. combine hv and clpx results\n",
    "hv = compute_drift_statistics('../../depth_dDEMs/hv/', '../gis/hv_drifts.shp')\n",
    "clpx = compute_drift_statistics('../../depth_dDEMs/clpx/', '../gis/clpx_drifts.shp')\n",
    "geodf = pd.concat([hv, clpx], sort=False)\n",
    "len(hv) + len(clpx) == len(geodf)"
   ]
  },
  {
   "cell_type": "code",
   "execution_count": 6,
   "metadata": {},
   "outputs": [
    {
     "data": {
      "text/plain": [
       "Index(['drift_type', 'study_area', 'geometry', '2015_mean', '2015_std',\n",
       "       '2015_median', '2015_sum', '2018_mean', '2018_std', '2018_median',\n",
       "       '2018_sum', '2016_mean', '2016_std', '2016_median', '2016_sum',\n",
       "       '2017_mean', '2017_std', '2017_median', '2017_sum'],\n",
       "      dtype='object')"
      ]
     },
     "execution_count": 6,
     "metadata": {},
     "output_type": "execute_result"
    }
   ],
   "source": [
    "# Lots of NoData from 2012/2013 lidar acquisitions\n",
    "\n",
    "geodf_15on = geodf.dropna(axis=1)\n",
    "geodf_15on.columns"
   ]
  },
  {
   "cell_type": "code",
   "execution_count": 7,
   "metadata": {},
   "outputs": [
    {
     "data": {
      "text/html": [
       "<div>\n",
       "<style scoped>\n",
       "    .dataframe tbody tr th:only-of-type {\n",
       "        vertical-align: middle;\n",
       "    }\n",
       "\n",
       "    .dataframe tbody tr th {\n",
       "        vertical-align: top;\n",
       "    }\n",
       "\n",
       "    .dataframe thead th {\n",
       "        text-align: right;\n",
       "    }\n",
       "</style>\n",
       "<table border=\"1\" class=\"dataframe\">\n",
       "  <thead>\n",
       "    <tr style=\"text-align: right;\">\n",
       "      <th></th>\n",
       "      <th>Drift Type</th>\n",
       "      <th>Study Area</th>\n",
       "      <th>Drift Area [m^2]</th>\n",
       "      <th>Mean Drift Depth [m]</th>\n",
       "      <th>Mean Drift Volume [m^3]</th>\n",
       "      <th>Std. Drift Depth [m]</th>\n",
       "      <th>Median Drift Depth [m]</th>\n",
       "      <th>CV Drift Depth</th>\n",
       "      <th>Volume:Area Ratio</th>\n",
       "    </tr>\n",
       "  </thead>\n",
       "  <tbody>\n",
       "    <tr>\n",
       "      <th>0</th>\n",
       "      <td>watertrack</td>\n",
       "      <td>HV</td>\n",
       "      <td>23636.367493</td>\n",
       "      <td>0.776019</td>\n",
       "      <td>18053.440430</td>\n",
       "      <td>0.171731</td>\n",
       "      <td>0.791751</td>\n",
       "      <td>0.221298</td>\n",
       "      <td>0.763799</td>\n",
       "    </tr>\n",
       "    <tr>\n",
       "      <th>1</th>\n",
       "      <td>watertrack</td>\n",
       "      <td>HV</td>\n",
       "      <td>9069.760465</td>\n",
       "      <td>0.777382</td>\n",
       "      <td>7044.636963</td>\n",
       "      <td>0.203242</td>\n",
       "      <td>0.755424</td>\n",
       "      <td>0.261444</td>\n",
       "      <td>0.776717</td>\n",
       "    </tr>\n",
       "    <tr>\n",
       "      <th>2</th>\n",
       "      <td>watertrack</td>\n",
       "      <td>HV</td>\n",
       "      <td>27802.663732</td>\n",
       "      <td>1.093303</td>\n",
       "      <td>30428.813477</td>\n",
       "      <td>0.414733</td>\n",
       "      <td>1.105991</td>\n",
       "      <td>0.379340</td>\n",
       "      <td>1.094457</td>\n",
       "    </tr>\n",
       "  </tbody>\n",
       "</table>\n",
       "</div>"
      ],
      "text/plain": [
       "   Drift Type Study Area  Drift Area [m^2]  Mean Drift Depth [m]  \\\n",
       "0  watertrack         HV      23636.367493              0.776019   \n",
       "1  watertrack         HV       9069.760465              0.777382   \n",
       "2  watertrack         HV      27802.663732              1.093303   \n",
       "\n",
       "   Mean Drift Volume [m^3]  Std. Drift Depth [m]  Median Drift Depth [m]  \\\n",
       "0             18053.440430              0.171731                0.791751   \n",
       "1              7044.636963              0.203242                0.755424   \n",
       "2             30428.813477              0.414733                1.105991   \n",
       "\n",
       "   CV Drift Depth  Volume:Area Ratio  \n",
       "0        0.221298           0.763799  \n",
       "1        0.261444           0.776717  \n",
       "2        0.379340           1.094457  "
      ]
     },
     "execution_count": 7,
     "metadata": {},
     "output_type": "execute_result"
    }
   ],
   "source": [
    "# Get time series averages (e.g. mean of means)\n",
    "all_means = geodf_15on.filter(regex='mean', axis=1)\n",
    "all_std = geodf_15on.filter(regex='std', axis=1)\n",
    "all_volumes = geodf_15on.filter(regex='sum', axis=1)\n",
    "all_meds = geodf_15on.filter(regex='median', axis=1)\n",
    "\n",
    "ts_mean = all_means.mean(axis=1)\n",
    "ts_std = all_std.mean(axis=1)\n",
    "ts_vol = all_volumes.mean(axis=1)\n",
    "ts_med = all_meds.mean(axis=1)\n",
    "\n",
    "summary_df = pd.DataFrame()\n",
    "summary_df['Drift Type'] = geodf_15on.drift_type\n",
    "summary_df['Study Area'] = [s.upper() for s in geodf_15on.study_area]\n",
    "summary_df['Drift Area [m^2]'] = geodf_15on.area\n",
    "\n",
    "summary_df['Mean Drift Depth [m]'] = ts_mean\n",
    "summary_df['Mean Drift Volume [m^3]'] = ts_vol\n",
    "summary_df['Std. Drift Depth [m]'] = ts_std\n",
    "summary_df['Median Drift Depth [m]'] = ts_med\n",
    "\n",
    "summary_df['CV Drift Depth'] = ts_std / ts_mean\n",
    "summary_df['Volume:Area Ratio'] = ts_vol / summary_df['Drift Area [m^2]']\n",
    "\n",
    "summary_df.head(3)"
   ]
  },
  {
   "cell_type": "code",
   "execution_count": 8,
   "metadata": {},
   "outputs": [
    {
     "data": {
      "image/png": "[encoded data removed]",
      "text/plain": [
       "<Figure size 423.125x360 with 1 Axes>"
      ]
     },
     "metadata": {
      "needs_background": "light"
     },
     "output_type": "display_data"
    }
   ],
   "source": [
    "sns.catplot(x=\"Drift Type\", y=\"CV Drift Depth\", hue='Study Area', data=summary_df)\n",
    "plt.savefig('../figs/drift_type_x_cv_depth_y.png', dpi=300, bbox_inches='tight')"
   ]
  },
  {
   "cell_type": "code",
   "execution_count": 9,
   "metadata": {},
   "outputs": [
    {
     "data": {
      "image/png": "[encoded data removed]",
      "text/plain": [
       "<Figure size 423.125x360 with 1 Axes>"
      ]
     },
     "metadata": {
      "needs_background": "light"
     },
     "output_type": "display_data"
    }
   ],
   "source": [
    "sns.catplot(x=\"Drift Type\", y=\"Volume:Area Ratio\", hue='Study Area',\n",
    "            data=summary_df)\n",
    "plt.savefig('../figs/drift_type_x_volume_area_volume_ratio_y.png', dpi=300, bbox_inches='tight')"
   ]
  },
  {
   "cell_type": "code",
   "execution_count": 71,
   "metadata": {},
   "outputs": [],
   "source": [
    "summary_df.round(3).to_csv('../results/drift_classification_summary.csv', index=False)"
   ]
  },
  {
   "cell_type": "code",
   "execution_count": 18,
   "metadata": {},
   "outputs": [
    {
     "data": {
      "text/plain": [
       "1.4780299278779883"
      ]
     },
     "execution_count": 18,
     "metadata": {},
     "output_type": "execute_result"
    }
   ],
   "source": [
    "summary_df['Volume:Area Ratio'].max()"
   ]
  },
  {
   "cell_type": "code",
   "execution_count": 16,
   "metadata": {},
   "outputs": [
    {
     "data": {
      "text/html": [
       "<div>\n",
       "<style scoped>\n",
       "    .dataframe tbody tr th:only-of-type {\n",
       "        vertical-align: middle;\n",
       "    }\n",
       "\n",
       "    .dataframe tbody tr th {\n",
       "        vertical-align: top;\n",
       "    }\n",
       "\n",
       "    .dataframe thead th {\n",
       "        text-align: right;\n",
       "    }\n",
       "</style>\n",
       "<table border=\"1\" class=\"dataframe\">\n",
       "  <thead>\n",
       "    <tr style=\"text-align: right;\">\n",
       "      <th></th>\n",
       "      <th></th>\n",
       "      <th>Drift Area [m^2]</th>\n",
       "      <th>Mean Drift Depth [m]</th>\n",
       "      <th>Mean Drift Volume [m^3]</th>\n",
       "      <th>Std. Drift Depth [m]</th>\n",
       "      <th>Median Drift Depth [m]</th>\n",
       "      <th>CV Drift Depth</th>\n",
       "      <th>Volume:Area Ratio</th>\n",
       "    </tr>\n",
       "    <tr>\n",
       "      <th>Study Area</th>\n",
       "      <th>Drift Type</th>\n",
       "      <th></th>\n",
       "      <th></th>\n",
       "      <th></th>\n",
       "      <th></th>\n",
       "      <th></th>\n",
       "      <th></th>\n",
       "      <th></th>\n",
       "    </tr>\n",
       "  </thead>\n",
       "  <tbody>\n",
       "    <tr>\n",
       "      <th rowspan=\"6\" valign=\"top\">CLPX</th>\n",
       "      <th>lake</th>\n",
       "      <td>23832.873860</td>\n",
       "      <td>1.106571</td>\n",
       "      <td>26790.934174</td>\n",
       "      <td>0.246943</td>\n",
       "      <td>1.087166</td>\n",
       "      <td>0.221708</td>\n",
       "      <td>1.107087</td>\n",
       "    </tr>\n",
       "    <tr>\n",
       "      <th>other</th>\n",
       "      <td>212890.410534</td>\n",
       "      <td>0.869638</td>\n",
       "      <td>186951.752441</td>\n",
       "      <td>0.128709</td>\n",
       "      <td>0.857323</td>\n",
       "      <td>0.147995</td>\n",
       "      <td>0.869662</td>\n",
       "    </tr>\n",
       "    <tr>\n",
       "      <th>outcrop</th>\n",
       "      <td>5432.366359</td>\n",
       "      <td>1.320414</td>\n",
       "      <td>7523.191309</td>\n",
       "      <td>0.352037</td>\n",
       "      <td>1.312603</td>\n",
       "      <td>0.258607</td>\n",
       "      <td>1.322270</td>\n",
       "    </tr>\n",
       "    <tr>\n",
       "      <th>polygon</th>\n",
       "      <td>370.171964</td>\n",
       "      <td>0.889683</td>\n",
       "      <td>350.697800</td>\n",
       "      <td>0.108080</td>\n",
       "      <td>0.877632</td>\n",
       "      <td>0.119734</td>\n",
       "      <td>0.901972</td>\n",
       "    </tr>\n",
       "    <tr>\n",
       "      <th>stream</th>\n",
       "      <td>20247.729033</td>\n",
       "      <td>1.292868</td>\n",
       "      <td>25456.217468</td>\n",
       "      <td>0.316979</td>\n",
       "      <td>1.280365</td>\n",
       "      <td>0.246699</td>\n",
       "      <td>1.292298</td>\n",
       "    </tr>\n",
       "    <tr>\n",
       "      <th>watertrack</th>\n",
       "      <td>2288.217920</td>\n",
       "      <td>0.865197</td>\n",
       "      <td>2056.387101</td>\n",
       "      <td>0.097707</td>\n",
       "      <td>0.855307</td>\n",
       "      <td>0.111459</td>\n",
       "      <td>0.864205</td>\n",
       "    </tr>\n",
       "    <tr>\n",
       "      <th rowspan=\"5\" valign=\"top\">HV</th>\n",
       "      <th>lake</th>\n",
       "      <td>71679.399267</td>\n",
       "      <td>1.306417</td>\n",
       "      <td>93953.466146</td>\n",
       "      <td>0.300889</td>\n",
       "      <td>1.317284</td>\n",
       "      <td>0.230033</td>\n",
       "      <td>1.306681</td>\n",
       "    </tr>\n",
       "    <tr>\n",
       "      <th>other</th>\n",
       "      <td>12722.104572</td>\n",
       "      <td>0.981453</td>\n",
       "      <td>11358.397369</td>\n",
       "      <td>0.191457</td>\n",
       "      <td>0.983466</td>\n",
       "      <td>0.192539</td>\n",
       "      <td>0.982561</td>\n",
       "    </tr>\n",
       "    <tr>\n",
       "      <th>polygon</th>\n",
       "      <td>850.860199</td>\n",
       "      <td>0.840436</td>\n",
       "      <td>720.395253</td>\n",
       "      <td>0.096246</td>\n",
       "      <td>0.839329</td>\n",
       "      <td>0.114451</td>\n",
       "      <td>0.845680</td>\n",
       "    </tr>\n",
       "    <tr>\n",
       "      <th>stream</th>\n",
       "      <td>2182.592646</td>\n",
       "      <td>1.096035</td>\n",
       "      <td>2420.860860</td>\n",
       "      <td>0.289626</td>\n",
       "      <td>1.085368</td>\n",
       "      <td>0.261189</td>\n",
       "      <td>1.097643</td>\n",
       "    </tr>\n",
       "    <tr>\n",
       "      <th>watertrack</th>\n",
       "      <td>20968.369590</td>\n",
       "      <td>0.925427</td>\n",
       "      <td>20217.424300</td>\n",
       "      <td>0.283517</td>\n",
       "      <td>0.879222</td>\n",
       "      <td>0.305597</td>\n",
       "      <td>0.923877</td>\n",
       "    </tr>\n",
       "  </tbody>\n",
       "</table>\n",
       "</div>"
      ],
      "text/plain": [
       "                       Drift Area [m^2]  Mean Drift Depth [m]  \\\n",
       "Study Area Drift Type                                           \n",
       "CLPX       lake            23832.873860              1.106571   \n",
       "           other          212890.410534              0.869638   \n",
       "           outcrop          5432.366359              1.320414   \n",
       "           polygon           370.171964              0.889683   \n",
       "           stream          20247.729033              1.292868   \n",
       "           watertrack       2288.217920              0.865197   \n",
       "HV         lake            71679.399267              1.306417   \n",
       "           other           12722.104572              0.981453   \n",
       "           polygon           850.860199              0.840436   \n",
       "           stream           2182.592646              1.096035   \n",
       "           watertrack      20968.369590              0.925427   \n",
       "\n",
       "                       Mean Drift Volume [m^3]  Std. Drift Depth [m]  \\\n",
       "Study Area Drift Type                                                  \n",
       "CLPX       lake                   26790.934174              0.246943   \n",
       "           other                 186951.752441              0.128709   \n",
       "           outcrop                 7523.191309              0.352037   \n",
       "           polygon                  350.697800              0.108080   \n",
       "           stream                 25456.217468              0.316979   \n",
       "           watertrack              2056.387101              0.097707   \n",
       "HV         lake                   93953.466146              0.300889   \n",
       "           other                  11358.397369              0.191457   \n",
       "           polygon                  720.395253              0.096246   \n",
       "           stream                  2420.860860              0.289626   \n",
       "           watertrack             20217.424300              0.283517   \n",
       "\n",
       "                       Median Drift Depth [m]  CV Drift Depth  \\\n",
       "Study Area Drift Type                                           \n",
       "CLPX       lake                      1.087166        0.221708   \n",
       "           other                     0.857323        0.147995   \n",
       "           outcrop                   1.312603        0.258607   \n",
       "           polygon                   0.877632        0.119734   \n",
       "           stream                    1.280365        0.246699   \n",
       "           watertrack                0.855307        0.111459   \n",
       "HV         lake                      1.317284        0.230033   \n",
       "           other                     0.983466        0.192539   \n",
       "           polygon                   0.839329        0.114451   \n",
       "           stream                    1.085368        0.261189   \n",
       "           watertrack                0.879222        0.305597   \n",
       "\n",
       "                       Volume:Area Ratio  \n",
       "Study Area Drift Type                     \n",
       "CLPX       lake                 1.107087  \n",
       "           other                0.869662  \n",
       "           outcrop              1.322270  \n",
       "           polygon              0.901972  \n",
       "           stream               1.292298  \n",
       "           watertrack           0.864205  \n",
       "HV         lake                 1.306681  \n",
       "           other                0.982561  \n",
       "           polygon              0.845680  \n",
       "           stream               1.097643  \n",
       "           watertrack           0.923877  "
      ]
     },
     "execution_count": 16,
     "metadata": {},
     "output_type": "execute_result"
    }
   ],
   "source": [
    "summary_df.groupby(['Study Area','Drift Type']).mean()"
   ]
  },
  {
   "cell_type": "code",
   "execution_count": 69,
   "metadata": {},
   "outputs": [
    {
     "data": {
      "image/png": "[encoded data removed]",
      "text/plain": [
       "<Figure size 449.75x360 with 1 Axes>"
      ]
     },
     "metadata": {
      "needs_background": "light"
     },
     "output_type": "display_data"
    }
   ],
   "source": [
    "dfless100k = summary_df.drop(summary_df.index[summary_df['Drift Area [m^2]'] > 50000])\n",
    "#dfless100k\n",
    "sns.lmplot(x=\"Drift Area [m^2]\", y=\"Mean Drift Volume [m^3]\", hue=\"Drift Type\", ci=68,\n",
    "           data=dfless100k)\n",
    "plt.xlim(0)\n",
    "plt.ylim(0)\n",
    "plt.savefig('../figs/area_vol_regression_by_drift_type.png', dpi=300, bbox_inches='tight')"
   ]
  },
  {
   "cell_type": "code",
   "execution_count": 19,
   "metadata": {},
   "outputs": [
    {
     "data": {
      "text/html": [
       "<div>\n",
       "<style scoped>\n",
       "    .dataframe tbody tr th:only-of-type {\n",
       "        vertical-align: middle;\n",
       "    }\n",
       "\n",
       "    .dataframe tbody tr th {\n",
       "        vertical-align: top;\n",
       "    }\n",
       "\n",
       "    .dataframe thead th {\n",
       "        text-align: right;\n",
       "    }\n",
       "</style>\n",
       "<table border=\"1\" class=\"dataframe\">\n",
       "  <thead>\n",
       "    <tr style=\"text-align: right;\">\n",
       "      <th></th>\n",
       "      <th>Study Area</th>\n",
       "      <th>Drift Area [m^2]</th>\n",
       "      <th>Mean Drift Depth [m]</th>\n",
       "      <th>Mean Drift Volume [m^3]</th>\n",
       "      <th>Std. Drift Depth [m]</th>\n",
       "      <th>Median Drift Depth [m]</th>\n",
       "      <th>CV Drift Depth</th>\n",
       "      <th>Volume:Area Ratio</th>\n",
       "    </tr>\n",
       "    <tr>\n",
       "      <th>Drift Type</th>\n",
       "      <th></th>\n",
       "      <th></th>\n",
       "      <th></th>\n",
       "      <th></th>\n",
       "      <th></th>\n",
       "      <th></th>\n",
       "      <th></th>\n",
       "      <th></th>\n",
       "    </tr>\n",
       "  </thead>\n",
       "  <tbody>\n",
       "    <tr>\n",
       "      <th>lake</th>\n",
       "      <td>7</td>\n",
       "      <td>7</td>\n",
       "      <td>7</td>\n",
       "      <td>7</td>\n",
       "      <td>7</td>\n",
       "      <td>7</td>\n",
       "      <td>7</td>\n",
       "      <td>7</td>\n",
       "    </tr>\n",
       "    <tr>\n",
       "      <th>other</th>\n",
       "      <td>6</td>\n",
       "      <td>6</td>\n",
       "      <td>6</td>\n",
       "      <td>6</td>\n",
       "      <td>6</td>\n",
       "      <td>6</td>\n",
       "      <td>6</td>\n",
       "      <td>6</td>\n",
       "    </tr>\n",
       "    <tr>\n",
       "      <th>outcrop</th>\n",
       "      <td>5</td>\n",
       "      <td>5</td>\n",
       "      <td>5</td>\n",
       "      <td>5</td>\n",
       "      <td>5</td>\n",
       "      <td>5</td>\n",
       "      <td>5</td>\n",
       "      <td>5</td>\n",
       "    </tr>\n",
       "    <tr>\n",
       "      <th>polygon</th>\n",
       "      <td>12</td>\n",
       "      <td>12</td>\n",
       "      <td>12</td>\n",
       "      <td>12</td>\n",
       "      <td>12</td>\n",
       "      <td>12</td>\n",
       "      <td>12</td>\n",
       "      <td>12</td>\n",
       "    </tr>\n",
       "    <tr>\n",
       "      <th>stream</th>\n",
       "      <td>7</td>\n",
       "      <td>7</td>\n",
       "      <td>7</td>\n",
       "      <td>7</td>\n",
       "      <td>7</td>\n",
       "      <td>7</td>\n",
       "      <td>7</td>\n",
       "      <td>7</td>\n",
       "    </tr>\n",
       "    <tr>\n",
       "      <th>watertrack</th>\n",
       "      <td>22</td>\n",
       "      <td>22</td>\n",
       "      <td>22</td>\n",
       "      <td>22</td>\n",
       "      <td>22</td>\n",
       "      <td>22</td>\n",
       "      <td>22</td>\n",
       "      <td>22</td>\n",
       "    </tr>\n",
       "  </tbody>\n",
       "</table>\n",
       "</div>"
      ],
      "text/plain": [
       "            Study Area  Drift Area [m^2]  Mean Drift Depth [m]  \\\n",
       "Drift Type                                                       \n",
       "lake                 7                 7                     7   \n",
       "other                6                 6                     6   \n",
       "outcrop              5                 5                     5   \n",
       "polygon             12                12                    12   \n",
       "stream               7                 7                     7   \n",
       "watertrack          22                22                    22   \n",
       "\n",
       "            Mean Drift Volume [m^3]  Std. Drift Depth [m]  \\\n",
       "Drift Type                                                  \n",
       "lake                              7                     7   \n",
       "other                             6                     6   \n",
       "outcrop                           5                     5   \n",
       "polygon                          12                    12   \n",
       "stream                            7                     7   \n",
       "watertrack                       22                    22   \n",
       "\n",
       "            Median Drift Depth [m]  CV Drift Depth  Volume:Area Ratio  \n",
       "Drift Type                                                             \n",
       "lake                             7               7                  7  \n",
       "other                            6               6                  6  \n",
       "outcrop                          5               5                  5  \n",
       "polygon                         12              12                 12  \n",
       "stream                           7               7                  7  \n",
       "watertrack                      22              22                 22  "
      ]
     },
     "execution_count": 19,
     "metadata": {},
     "output_type": "execute_result"
    }
   ],
   "source": [
    "summary_df.groupby(['Drift Type']).count()"
   ]
  },
  {
   "cell_type": "code",
   "execution_count": 20,
   "metadata": {},
   "outputs": [],
   "source": [
    "bytype = summary_df.groupby(['Drift Type']).mean()"
   ]
  },
  {
   "cell_type": "code",
   "execution_count": 40,
   "metadata": {},
   "outputs": [],
   "source": [
    "x = summary_df['Drift Area [m^2]']\n",
    "               \n",
    "y = summary_df['Mean Drift Volume [m^3]']\n"
   ]
  },
  {
   "cell_type": "code",
   "execution_count": 41,
   "metadata": {},
   "outputs": [
    {
     "data": {
      "text/plain": [
       "True"
      ]
     },
     "execution_count": 41,
     "metadata": {},
     "output_type": "execute_result"
    }
   ],
   "source": [
    "xclip = x.drop(y.index[y>100000])\n",
    "yclip = y.drop(y.index[y>100000])\n",
    "len(xclip) == len(yclip)\n"
   ]
  },
  {
   "cell_type": "code",
   "execution_count": 42,
   "metadata": {},
   "outputs": [
    {
     "name": "stdout",
     "output_type": "stream",
     "text": [
      "Gradient and intercept 1.1345316620271544 -713.7967873688103\n",
      "R-squared 0.9592636705957239\n",
      "p-value 1.6254371058097125e-38\n"
     ]
    }
   ],
   "source": [
    "from scipy import stats\n",
    "\n",
    "import numpy as np\n",
    "\n",
    "gradient,intercept,r_value,p_value,std_err=stats.linregress(xclip ,yclip)\n",
    "\n",
    "print(\"Gradient and intercept\",gradient,intercept)\n",
    "\n",
    "\n",
    "print (\"R-squared\",r_value**2)\n",
    "\n",
    "print (\"p-value\",p_value)\n"
   ]
  },
  {
   "cell_type": "code",
   "execution_count": 44,
   "metadata": {},
   "outputs": [
    {
     "data": {
      "image/png": "[encoded data removed]",
      "text/plain": [
       "<Figure size 432x288 with 1 Axes>"
      ]
     },
     "metadata": {
      "needs_background": "light"
     },
     "output_type": "display_data"
    }
   ],
   "source": [
    "plt.plot(xclip, yclip, 'o', label='original data')\n",
    "plt.plot(xclip, intercept + gradient * xclip, 'r', label='fitted line')\n",
    "plt.legend()\n",
    "plt.show()"
   ]
  },
  {
   "cell_type": "code",
   "execution_count": null,
   "metadata": {},
   "outputs": [],
   "source": [
    "# to retreive shape properties - can do this later if useful\n",
    "# not relevant at the moment 7/25/19\n",
    "\n",
    "from skimage.measure import label, regionprops\n",
    "from skimage.color import label2rgb\n",
    "from skimage.morphology import binary_dilation\n",
    "import matplotlib.patches as mpatches\n",
    "\n",
    "src = rasterio.open('drift_masks/hv_drifts_rasterized.tif')\n",
    "arr = src.read(1)\n",
    "msk = (arr > -1).astype(int)\n",
    "be_msk = binary_dilation(msk)"
   ]
  },
  {
   "cell_type": "code",
   "execution_count": null,
   "metadata": {},
   "outputs": [],
   "source": [
    "label_image = label(be_msk, connectivity=2, background=0)\n",
    "areas = []\n",
    "eccs = []\n",
    "orientations = []\n",
    "ctrxs = []\n",
    "ctrys = []\n",
    "\n",
    "for region in regionprops(label_image):\n",
    "    areas.append(region.area)\n",
    "    eccs.append(region.eccentricity)\n",
    "    orientations.append(region.orientation)\n",
    "    ctrxs.append(region.centroid[1] + 421000)\n",
    "    ctrys.append(7678000 - region.centroid[0])\n",
    "    \n",
    "\n",
    "df = pd.DataFrame([areas,eccs,orientations,ctrxs, ctrys])"
   ]
  },
  {
   "cell_type": "code",
   "execution_count": null,
   "metadata": {},
   "outputs": [],
   "source": [
    "shapedf = df.T\n",
    "shapedf.columns = ['area', 'eccentricity', 'orientation', 'x', 'y']\n",
    "shapedf.sort_values('x', inplace=True)\n",
    "shapedf.head(3)"
   ]
  },
  {
   "cell_type": "code",
   "execution_count": null,
   "metadata": {},
   "outputs": [],
   "source": [
    "hv['gdfctrx'] = [int(x) for x in hv.geometry.centroid.x]\n",
    "hv_copy = hv.sort_values('gdfctrx')\n",
    "\n",
    "#hv_copy\n",
    "hv_copy.head(3)"
   ]
  },
  {
   "cell_type": "code",
   "execution_count": null,
   "metadata": {},
   "outputs": [],
   "source": [
    "hv_copy['orientation'] = shapedf['orientation']\n",
    "hv_copy['eccentricity'] = shapedf['eccentricity']\n"
   ]
  },
  {
   "cell_type": "code",
   "execution_count": null,
   "metadata": {},
   "outputs": [],
   "source": [
    "shapedf['drift_type'] = hv_copy.drift_type"
   ]
  },
  {
   "cell_type": "code",
   "execution_count": null,
   "metadata": {},
   "outputs": [],
   "source": [
    "sns.catplot(x=\"drift_type\", y=\"eccentricity\", data=shapedf)"
   ]
  },
  {
   "cell_type": "code",
   "execution_count": null,
   "metadata": {},
   "outputs": [],
   "source": [
    "gdf_ctr_x = [int(x) for x in hv.geometry.centroid.x]\n",
    "gdf_ctr_y = [int(y) for y in hv.geometry.centroid.y]\n",
    "rprops_ctrx = [c[1] + 421000 for c in ctrs]\n",
    "rprops_ctry = [7678000 - c[0] for c in ctrs]"
   ]
  },
  {
   "cell_type": "code",
   "execution_count": null,
   "metadata": {},
   "outputs": [],
   "source": [
    "xdelt = np.sort(gdf_ctr_x) - np.sort(rprops_ctrx)\n",
    "ydelt = np.sort(gdf_ctr_y) - np.sort(rprops_ctry)\n",
    "np.sqrt(xdelt**2 + ydelt**2)"
   ]
  },
  {
   "cell_type": "code",
   "execution_count": null,
   "metadata": {},
   "outputs": [],
   "source": []
  }
 ],
 "metadata": {
  "kernelspec": {
   "display_name": "Python 3",
   "language": "python",
   "name": "python3"
  },
  "language_info": {
   "codemirror_mode": {
    "name": "ipython",
    "version": 3
   },
   "file_extension": ".py",
   "mimetype": "text/x-python",
   "name": "python",
   "nbconvert_exporter": "python",
   "pygments_lexer": "ipython3",
   "version": "3.7.3"
  }
 },
 "nbformat": 4,
 "nbformat_minor": 2
}
