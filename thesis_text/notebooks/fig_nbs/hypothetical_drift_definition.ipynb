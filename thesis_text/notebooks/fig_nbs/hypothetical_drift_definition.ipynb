{
 "cells": [
  {
   "cell_type": "markdown",
   "metadata": {},
   "source": [
    "# Setting the snow depth threshold to separate drift from not-drift snow.\n",
    "\n",
    "Matthew, I wanted to re-create your figure using the cumulative distribution function on a hypothetical simulated snow cover that is normally distributed where &mu; = 0.5 and &sigma; = 0.2.\n",
    "\n",
    "Essentially we are interested in the empirical cumulative distribution function (CDF) of our hypothetical snowcover - just reversed.\n",
    "\n",
    "After looking into a bit more I have learned that in engineering these reversed CDFs are known as \"exceedance\" curves: they tell you the probability that an observation will not exceed the x-value.\n",
    "\n",
    "We can make a function that generates populations and plots these exceedance curves:"
   ]
  },
  {
   "cell_type": "code",
   "execution_count": 2,
   "metadata": {},
   "outputs": [],
   "source": [
    "# Importing libraries (all stable)\n",
    "import numpy as np\n",
    "import matplotlib.pyplot as plt\n",
    "import pandas as pd\n",
    "from scipy.stats import norm\n",
    "from scipy.stats import lognorm\n",
    "from scipy.interpolate import interp1d"
   ]
  },
  {
   "cell_type": "code",
   "execution_count": 3,
   "metadata": {},
   "outputs": [],
   "source": [
    "def generate_norm_synthetic_snow(mu, sigma, N):\n",
    "    \"\"\"Generates a normally distributed snowcover.\n",
    "       Negative depths are culled\"\"\"\n",
    "    \n",
    "    # Set the random seed for stability\n",
    "    np.random.seed(42)\n",
    "    s = np.random.normal(mu, sigma, N)\n",
    "    s = s[s>=0]\n",
    "    \n",
    "    return s\n",
    "\n",
    "\n",
    "def generate_lognorm_synthetic_snow(mu, sigma, N):\n",
    "    \"\"\"Generates a *log*-normally distributed snowcover.\n",
    "       Negative depths are culled\"\"\"\n",
    "    \n",
    "    s = lognorm(sigma, mu, N)\n",
    "    s = s[s>=0]\n",
    "    \n",
    "    return s\n",
    "\n",
    "\n",
    "def plot_pdf(s, n_bins):\n",
    "    \"\"\"Computes and plots a normalized PDF\"\"\"\n",
    "    \n",
    "    sigma = np.std(s)\n",
    "    mu = np.mean(s)\n",
    "    \n",
    "    fig = plt.figure(figsize=(8,5))\n",
    "    count, bins, ignored = plt.hist(s, n_bins, density=True)\n",
    "    ln = 1 / (sigma * np.sqrt(2 * np.pi)) * np.exp( - (bins - mu)**2 / (2 * sigma**2))\n",
    "\n",
    "    plt.plot(bins, ln, linewidth=2, color='r', label='PDF')\n",
    "    plt.xlabel('Snow Depth [m]')\n",
    "    plt.ylabel('Normalized Frequency')\n",
    "    return ln, bins\n",
    "\n",
    "def compute_pct_area(s):\n",
    "    \"\"\"\n",
    "    This is logic currently in the paper.\n",
    "    1. Sort the snowcover by depth\n",
    "    2. For each depth, count how many samples are greater\n",
    "    than or equal to that depth.\n",
    "    3. The number of samples is the area.\n",
    "    \"\"\"\n",
    "    \n",
    "    s_sort = np.sort(s)\n",
    "    area_pcts = []\n",
    "    total_area = s.size\n",
    "\n",
    "    for i in s_sort:\n",
    "        drift_mask = (s >= i)\n",
    "        drift_area = np.nansum(drift_mask)\n",
    "        drift_area_pct = (drift_area / total_area)\n",
    "        area_pcts.append(drift_area_pct)\n",
    "    \n",
    "    return np.array(area_pcts)\n",
    "\n",
    "def compute_pct_volume(s):\n",
    "    \n",
    "    \"\"\"\n",
    "    This is logic currently in the paper.\n",
    "    1. Sort the snowcover by depth\n",
    "    2. For each depth, mask out the depths below that depth\n",
    "    3. Add up all the snow depths remaining\n",
    "    4. Multiply by 1 for the volume.\n",
    "    \"\"\"\n",
    "    s_sort = np.sort(s)\n",
    "    vol_pcts = []\n",
    "    total_vol = s.sum()\n",
    "\n",
    "    for i in s_sort:\n",
    "        drift_mask = (s >= i)\n",
    "        drift_vol = np.nansum(drift_mask * s * 1)\n",
    "        drift_vol_pct = (drift_vol / total_vol)\n",
    "        vol_pcts.append(drift_vol_pct)\n",
    "    \n",
    "    return np.array(vol_pcts)\n",
    "\n",
    "def main(mu, sigma, N):\n",
    "    s = generate_norm_synthetic_snow(mu, sigma, N)\n",
    "    pct_area = compute_pct_area(s)\n",
    "    pct_vol = compute_pct_volume(s)\n",
    "    df = pd.DataFrame(index=pd.Index(np.sort(s)))\n",
    "    df['percent area'] = pct_area * 100\n",
    "    df['percent vol.'] = pct_vol * 100\n",
    "    df['percent vol. - area diff.'] = df['percent vol.'] - df['percent area']\n",
    "    return df, s\n",
    "\n",
    "    "
   ]
  },
  {
   "cell_type": "code",
   "execution_count": 5,
   "metadata": {},
   "outputs": [
    {
     "name": "stdout",
     "output_type": "stream",
     "text": [
      "0.7841008574542127\n",
      "0.0\n"
     ]
    }
   ],
   "source": [
    "# 100 iterations of a random normal distribution (N - 10,000)\n",
    "\n",
    "ixmins = []\n",
    "    \n",
    "df, s = main(0.50, 0.20, 10000)\n",
    "dd = np.gradient(df['percent vol. - area diff.'], np.sort(s))\n",
    "i = np.argmin(dd)\n",
    "ixmins.append(df.iloc[i].name)\n",
    "\n",
    "    \n",
    "print(np.mean(ixmins))\n",
    "print(np.std(ixmins))"
   ]
  },
  {
   "cell_type": "code",
   "execution_count": 6,
   "metadata": {},
   "outputs": [
    {
     "data": {
      "image/png": "[encoded data removed]",
      "text/plain": [
       "<Figure size 576x360 with 1 Axes>"
      ]
     },
     "metadata": {
      "needs_background": "light"
     },
     "output_type": "display_data"
    }
   ],
   "source": [
    "l, b = plot_pdf(s, 300)"
   ]
  },
  {
   "cell_type": "code",
   "execution_count": null,
   "metadata": {},
   "outputs": [],
   "source": [
    "#plt.plot(l)\n",
    "plt.plot(np.gradient(l))\n"
   ]
  },
  {
   "cell_type": "code",
   "execution_count": null,
   "metadata": {},
   "outputs": [],
   "source": [
    "from matplotlib.widgets import Slider, Button, RadioButtons\n",
    "%matplotlib inline\n",
    "\n",
    "fig = plt.figure(figsize=(8,5))\n",
    "ax = fig.add_subplot(111)\n",
    "\n",
    "# Adjust the subplots region to leave some space for the sliders and buttons\n",
    "fig.subplots_adjust(left=0.25, bottom=0.25)\n",
    "\n",
    "# Initial parameters\n",
    "mu_0 = 0.5\n",
    "sig_0 = 0.2\n",
    "N_0 = 1000\n",
    "\n",
    "# Draw the initial plot\n",
    "# The 'line' variable is used for modifying the line later\n",
    "\n",
    "count, bins, ignored = ax.hist(generate_norm_synthetic_snow(mu_0,\n",
    "                                                            sig_0,\n",
    "                                                            N_0),\n",
    "                               30, density=True)\n",
    "ln = 1 / (sig_0 * np.sqrt(2 * np.pi)) * np.exp( - (bins - mu_0)**2 / (2 * sig_0**2))\n",
    "[line] = ax.plot(bins, ln, linewidth=2, color='r', label='PDF')\n",
    "\n",
    "#plt.xlabel('Snow Depth [m]')\n",
    "#plt.ylabel('Normalized Frequency')\n",
    "\n",
    "\n",
    "# Add two sliders for tweaking the parameters\n",
    "\n",
    "# Define an axes area and draw a slider in it\n",
    "mu_slider_ax  = fig.add_axes([0.25, 0.15, 0.65, 0.03])\n",
    "mu_slider = Slider(mu_slider_ax, 'mu', 0.30, 0.80, valinit=mu_0)\n",
    "\n",
    "sig_slider_ax = fig.add_axes([0.25, 0.1, 0.65, 0.03])\n",
    "sig_slider = Slider(sig_slider_ax, 'sigma', 0.1, 0.8, valinit=sig_0)\n",
    "\n",
    "# Define an action for modifying the line when any slider's value changes\n",
    "def sliders_on_changed(val):\n",
    "    line.set_ydata(generate_norm_synthetic_snow(mu_slider.val, sig_slider.val, N_0))\n",
    "    fig.canvas.draw_idle()\n",
    "mu_slider.on_changed(sliders_on_changed)\n",
    "sig_slider.on_changed(sliders_on_changed)\n",
    "\n",
    "plt.show()"
   ]
  },
  {
   "cell_type": "code",
   "execution_count": null,
   "metadata": {},
   "outputs": [],
   "source": [
    "vol_area_delta = pct_vol - pct_area\n",
    "fig, ax1 = plt.subplots(figsize=(8,5))\n",
    "\n",
    "ax1.set_xlabel('Snow Depth [m]')\n",
    "ax1.set_ylabel('percent difference', color='m')\n",
    "ax1.plot(np.sort(s), vol_area_delta*100, color='m', label='Drift Volume - Drift Area')\n",
    "ax1.tick_params(axis='y', labelcolor='m')\n",
    "plt.legend(loc=5)\n",
    "\n",
    "ax2 = ax1.twinx()  # instantiate a second axes that shares the same x-axis\n",
    "\n",
    "ax2.set_ylabel('percent', color='k')  # we already handl%ed the x-label with ax1\n",
    "ax2.plot(np.sort(s), pct_vol*100, color='blue', label='Drift Volume')\n",
    "ax2.plot(np.sort(s), pct_area*100, color='green', label='Drift Volume')\n",
    "ax2.tick_params(axis='y', labelcolor='k')\n",
    "\n",
    "fig.tight_layout()  # otherwise the right y-label is slightly clipped\n",
    "plt.legend()\n",
    "plt.show()\n"
   ]
  },
  {
   "cell_type": "code",
   "execution_count": null,
   "metadata": {},
   "outputs": [],
   "source": [
    "d_vol_area_delta = np.gradient(vol_area_delta*100)\n",
    "plt.plot(np.sort(s), vol_area_delta*100)\n",
    "ax = plt.gca()\n",
    "y = ax.lines[0].get_ydata()\n"
   ]
  },
  {
   "cell_type": "code",
   "execution_count": null,
   "metadata": {},
   "outputs": [],
   "source": []
  },
  {
   "cell_type": "markdown",
   "metadata": {},
   "source": [
    "We can now see in the above figure that there is about a 70% chance that an observation from this snowcover will exceed 0.40 m in depth.\n",
    "\n",
    "This may be useful if you a gambler, but to start defining drifts we also need to know "
   ]
  },
  {
   "cell_type": "code",
   "execution_count": null,
   "metadata": {},
   "outputs": [],
   "source": [
    "def plot_reversed_cdf(s, n_bins):\n",
    "        \n",
    "    fig = plt.figure(figsize=(8,5))\n",
    "\n",
    "    rev_cdf = plt.hist(s, bins=n_bins, density=True,\n",
    "                       histtype='step', cumulative=-1)\n",
    "\n",
    "    plt.cla()\n",
    "    plt.plot(np.sort(s), rev_cdf[0], color='m', lw=2)\n",
    "    plt.xlabel('Snow Depth [m]')\n",
    "    plt.ylabel('Probability of Exceedance')        \n",
    "    plt.show()\n",
    "\n",
    "    return rev_cdf[0]\n"
   ]
  },
  {
   "cell_type": "code",
   "execution_count": null,
   "metadata": {},
   "outputs": [],
   "source": [
    "def compute_exceedance_prob(s):\n",
    "\n",
    "# sort data\n",
    "s_sorted = np.sort(s)\n",
    "\n",
    "# Count total obervations\n",
    "n = s.size\n",
    "# Add a numbered column 1 -> n to use in return calculation for rank\n",
    "longmont_discharge_sorted.insert(0, 'rank', range(1, 1 + n))\n",
    "# Calculate probability - note you may need to adjust this value based upon the time period of your data\n",
    "longmont_discharge_sorted[\"probability\"] = (\n",
    "    (n - longmont_discharge_sorted[\"rank\"] + 1) / (n + 1))\n",
    "longmont_discharge_sorted[\"return-years\"] = (\n",
    "    1 / longmont_discharge_sorted[\"probability\"])\n"
   ]
  }
 ],
 "metadata": {
  "kernelspec": {
   "display_name": "Python 3",
   "language": "python",
   "name": "python3"
  },
  "language_info": {
   "codemirror_mode": {
    "name": "ipython",
    "version": 3
   },
   "file_extension": ".py",
   "mimetype": "text/x-python",
   "name": "python",
   "nbconvert_exporter": "python",
   "pygments_lexer": "ipython3",
   "version": "3.7.3"
  }
 },
 "nbformat": 4,
 "nbformat_minor": 2
}
