{
 "cells": [
  {
   "cell_type": "code",
   "execution_count": 1,
   "metadata": {},
   "outputs": [],
   "source": [
    "import pandas as pd\n",
    "import seaborn as sns\n",
    "import matplotlib.pyplot as plt"
   ]
  },
  {
   "cell_type": "code",
   "execution_count": 68,
   "metadata": {},
   "outputs": [],
   "source": [
    "sns.set_context('paper')\n",
    "sns.set_style({\"grid.linestyle\": \"--\"})\n",
    "kw = {'linestyle' : \"--\"}"
   ]
  },
  {
   "cell_type": "code",
   "execution_count": 77,
   "metadata": {},
   "outputs": [
    {
     "data": {
      "text/html": [
       "<div>\n",
       "<style scoped>\n",
       "    .dataframe tbody tr th:only-of-type {\n",
       "        vertical-align: middle;\n",
       "    }\n",
       "\n",
       "    .dataframe tbody tr th {\n",
       "        vertical-align: top;\n",
       "    }\n",
       "\n",
       "    .dataframe thead th {\n",
       "        text-align: right;\n",
       "    }\n",
       "</style>\n",
       "<table border=\"1\" class=\"dataframe\">\n",
       "  <thead>\n",
       "    <tr style=\"text-align: right;\">\n",
       "      <th></th>\n",
       "      <th>Field Area</th>\n",
       "      <th>Year</th>\n",
       "      <th>Drift Area [% total]</th>\n",
       "      <th>Drift Volume [% total]</th>\n",
       "      <th>Drift Area [km^2]</th>\n",
       "      <th>Drift Volume [m^3]</th>\n",
       "      <th>Drift Threshold [% of mean depth]</th>\n",
       "      <th>Drift Threshold [m]</th>\n",
       "      <th>Mean Depth [m]</th>\n",
       "      <th>SD Depth [m]</th>\n",
       "      <th>CV Depth</th>\n",
       "      <th>Total Area [km^2]</th>\n",
       "      <th>Area Normalized Drift Volume [m^3/km^2]</th>\n",
       "    </tr>\n",
       "  </thead>\n",
       "  <tbody>\n",
       "    <tr>\n",
       "      <th>0</th>\n",
       "      <td>HV</td>\n",
       "      <td>2013</td>\n",
       "      <td>19.20</td>\n",
       "      <td>34.48</td>\n",
       "      <td>3.97</td>\n",
       "      <td>3911711.0</td>\n",
       "      <td>130.0</td>\n",
       "      <td>0.71</td>\n",
       "      <td>0.55</td>\n",
       "      <td>0.30</td>\n",
       "      <td>0.55</td>\n",
       "      <td>20.68</td>\n",
       "      <td>189154.30</td>\n",
       "    </tr>\n",
       "    <tr>\n",
       "      <th>1</th>\n",
       "      <td>HV</td>\n",
       "      <td>2015</td>\n",
       "      <td>17.54</td>\n",
       "      <td>26.37</td>\n",
       "      <td>5.00</td>\n",
       "      <td>5321696.0</td>\n",
       "      <td>120.0</td>\n",
       "      <td>0.85</td>\n",
       "      <td>0.71</td>\n",
       "      <td>0.25</td>\n",
       "      <td>0.35</td>\n",
       "      <td>28.54</td>\n",
       "      <td>186464.47</td>\n",
       "    </tr>\n",
       "    <tr>\n",
       "      <th>2</th>\n",
       "      <td>HV</td>\n",
       "      <td>2018</td>\n",
       "      <td>20.00</td>\n",
       "      <td>40.71</td>\n",
       "      <td>5.59</td>\n",
       "      <td>5542494.0</td>\n",
       "      <td>140.0</td>\n",
       "      <td>0.68</td>\n",
       "      <td>0.49</td>\n",
       "      <td>0.36</td>\n",
       "      <td>0.73</td>\n",
       "      <td>27.95</td>\n",
       "      <td>198300.32</td>\n",
       "    </tr>\n",
       "    <tr>\n",
       "      <th>3</th>\n",
       "      <td>HV</td>\n",
       "      <td>2016</td>\n",
       "      <td>19.40</td>\n",
       "      <td>29.36</td>\n",
       "      <td>5.09</td>\n",
       "      <td>4034082.0</td>\n",
       "      <td>120.0</td>\n",
       "      <td>0.63</td>\n",
       "      <td>0.52</td>\n",
       "      <td>0.21</td>\n",
       "      <td>0.41</td>\n",
       "      <td>26.26</td>\n",
       "      <td>153620.79</td>\n",
       "    </tr>\n",
       "    <tr>\n",
       "      <th>4</th>\n",
       "      <td>HV</td>\n",
       "      <td>2017</td>\n",
       "      <td>15.40</td>\n",
       "      <td>30.66</td>\n",
       "      <td>4.29</td>\n",
       "      <td>4555608.0</td>\n",
       "      <td>140.0</td>\n",
       "      <td>0.75</td>\n",
       "      <td>0.53</td>\n",
       "      <td>0.32</td>\n",
       "      <td>0.60</td>\n",
       "      <td>27.84</td>\n",
       "      <td>163635.34</td>\n",
       "    </tr>\n",
       "  </tbody>\n",
       "</table>\n",
       "</div>"
      ],
      "text/plain": [
       "  Field Area  Year  Drift Area [% total]  Drift Volume [% total]  \\\n",
       "0         HV  2013                 19.20                   34.48   \n",
       "1         HV  2015                 17.54                   26.37   \n",
       "2         HV  2018                 20.00                   40.71   \n",
       "3         HV  2016                 19.40                   29.36   \n",
       "4         HV  2017                 15.40                   30.66   \n",
       "\n",
       "   Drift Area [km^2]  Drift Volume [m^3]  Drift Threshold [% of mean depth]  \\\n",
       "0               3.97           3911711.0                              130.0   \n",
       "1               5.00           5321696.0                              120.0   \n",
       "2               5.59           5542494.0                              140.0   \n",
       "3               5.09           4034082.0                              120.0   \n",
       "4               4.29           4555608.0                              140.0   \n",
       "\n",
       "   Drift Threshold [m]  Mean Depth [m]  SD Depth [m]  CV Depth  \\\n",
       "0                 0.71            0.55          0.30      0.55   \n",
       "1                 0.85            0.71          0.25      0.35   \n",
       "2                 0.68            0.49          0.36      0.73   \n",
       "3                 0.63            0.52          0.21      0.41   \n",
       "4                 0.75            0.53          0.32      0.60   \n",
       "\n",
       "   Total Area [km^2]  Area Normalized Drift Volume [m^3/km^2]  \n",
       "0              20.68                                189154.30  \n",
       "1              28.54                                186464.47  \n",
       "2              27.95                                198300.32  \n",
       "3              26.26                                153620.79  \n",
       "4              27.84                                163635.34  "
      ]
     },
     "execution_count": 77,
     "metadata": {},
     "output_type": "execute_result"
    }
   ],
   "source": [
    "df = pd.read_csv('../../figs/fig_tabular_data/drift_threshold_results_full_domains_adj.csv')\n",
    "del df['Year.1']\n",
    "del df['Field Area.1']\n",
    "df['Field Area'] = [i.upper() for i in df['Field Area']]\n",
    "df = df.round(2)\n",
    "df.head()"
   ]
  },
  {
   "cell_type": "code",
   "execution_count": 78,
   "metadata": {},
   "outputs": [
    {
     "data": {
      "image/png": "[encoded data removed]",
      "text/plain": [
       "<Figure size 576x360 with 2 Axes>"
      ]
     },
     "metadata": {
      "needs_background": "light"
     },
     "output_type": "display_data"
    }
   ],
   "source": [
    "fig = plt.figure(figsize=(8,5))\n",
    "ax1 = fig.add_subplot(121)\n",
    "ax2 = fig.add_subplot(122, sharey = ax1)\n",
    "\n",
    "# Tell pointplot to plot on ax1 with the ax argument\n",
    "sns.catplot(x=\"Field Area\", y=\"Area Normalized Drift Volume [m^3/km^2]\",\n",
    "            kind=\"box\", data=df, ax=ax1)\n",
    "\n",
    "# Tell the factorplot to plot on ax2 with the ax argument\n",
    "# Also store the FacetGrid in 'g'\n",
    "sns.catplot(x=\"Year\", y=\"Area Normalized Drift Volume [m^3/km^2]\",\n",
    "                hue=\"Field Area\", kind=\"point\", data=df, ax=ax2, kwargs=kw)\n",
    "\n",
    "ax1.set_ylabel('NDV $m^3$$km^{-2}$')\n",
    "\n",
    "ax2.yaxis.set_visible(False)\n",
    "\n",
    "# Close the FacetGrid figure which we don't need (g.fig)\n",
    "plt.close()\n",
    "plt.close()\n",
    "plt.savefig('../../figs/pngs/f6_drift_census_ndv_box_and_line.png',\n",
    "            dpi=300, bbox_inches='tight')"
   ]
  },
  {
   "cell_type": "code",
   "execution_count": 79,
   "metadata": {},
   "outputs": [],
   "source": [
    "df.to_csv('../../figs/fig_tabular_data/drift_threshold_results_table_clean.csv', index=False)\n"
   ]
  },
  {
   "cell_type": "code",
   "execution_count": null,
   "metadata": {},
   "outputs": [],
   "source": []
  }
 ],
 "metadata": {
  "kernelspec": {
   "display_name": "Python 3",
   "language": "python",
   "name": "python3"
  },
  "language_info": {
   "codemirror_mode": {
    "name": "ipython",
    "version": 3
   },
   "file_extension": ".py",
   "mimetype": "text/x-python",
   "name": "python",
   "nbconvert_exporter": "python",
   "pygments_lexer": "ipython3",
   "version": "3.7.3"
  }
 },
 "nbformat": 4,
 "nbformat_minor": 2
}
