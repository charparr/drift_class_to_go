{
 "cells": [
  {
   "cell_type": "code",
   "execution_count": 1,
   "metadata": {},
   "outputs": [],
   "source": [
    "import pandas as pd\n",
    "import matplotlib.pyplot as plt\n",
    "import numpy as np\n",
    "import seaborn as sns\n",
    "spal = sns.diverging_palette(245, 64, s=87, l=84)"
   ]
  },
  {
   "cell_type": "code",
   "execution_count": 20,
   "metadata": {},
   "outputs": [
    {
     "data": {
      "text/html": [
       "<div>\n",
       "<style scoped>\n",
       "    .dataframe tbody tr th:only-of-type {\n",
       "        vertical-align: middle;\n",
       "    }\n",
       "\n",
       "    .dataframe tbody tr th {\n",
       "        vertical-align: top;\n",
       "    }\n",
       "\n",
       "    .dataframe thead th {\n",
       "        text-align: right;\n",
       "    }\n",
       "</style>\n",
       "<table border=\"1\" class=\"dataframe\">\n",
       "  <thead>\n",
       "    <tr style=\"text-align: right;\">\n",
       "      <th></th>\n",
       "      <th>NRMSE</th>\n",
       "      <th>SSIM</th>\n",
       "      <th>CW-SSIM</th>\n",
       "      <th>GMS</th>\n",
       "      <th>Drift Class</th>\n",
       "      <th>Swath</th>\n",
       "      <th>Winters Compared</th>\n",
       "    </tr>\n",
       "  </thead>\n",
       "  <tbody>\n",
       "    <tr>\n",
       "      <td>0</td>\n",
       "      <td>0.691</td>\n",
       "      <td>0.818322</td>\n",
       "      <td>0.8015</td>\n",
       "      <td>0.842</td>\n",
       "      <td>Other</td>\n",
       "      <td>CLPX</td>\n",
       "      <td>2015 v. 2018</td>\n",
       "    </tr>\n",
       "    <tr>\n",
       "      <td>1</td>\n",
       "      <td>0.716</td>\n",
       "      <td>0.893100</td>\n",
       "      <td>0.7695</td>\n",
       "      <td>0.867</td>\n",
       "      <td>Other</td>\n",
       "      <td>CLPX</td>\n",
       "      <td>2013 v. 2018</td>\n",
       "    </tr>\n",
       "    <tr>\n",
       "      <td>2</td>\n",
       "      <td>0.706</td>\n",
       "      <td>0.893446</td>\n",
       "      <td>0.8040</td>\n",
       "      <td>0.869</td>\n",
       "      <td>Other</td>\n",
       "      <td>CLPX</td>\n",
       "      <td>2012 v. 2018</td>\n",
       "    </tr>\n",
       "    <tr>\n",
       "      <td>3</td>\n",
       "      <td>0.760</td>\n",
       "      <td>0.880182</td>\n",
       "      <td>0.8340</td>\n",
       "      <td>0.865</td>\n",
       "      <td>Other</td>\n",
       "      <td>CLPX</td>\n",
       "      <td>2017 v. 2018</td>\n",
       "    </tr>\n",
       "    <tr>\n",
       "      <td>4</td>\n",
       "      <td>0.709</td>\n",
       "      <td>0.859140</td>\n",
       "      <td>0.7910</td>\n",
       "      <td>0.863</td>\n",
       "      <td>Other</td>\n",
       "      <td>CLPX</td>\n",
       "      <td>2016 v. 2018</td>\n",
       "    </tr>\n",
       "  </tbody>\n",
       "</table>\n",
       "</div>"
      ],
      "text/plain": [
       "   NRMSE      SSIM  CW-SSIM    GMS Drift Class Swath Winters Compared\n",
       "0  0.691  0.818322   0.8015  0.842       Other  CLPX     2015 v. 2018\n",
       "1  0.716  0.893100   0.7695  0.867       Other  CLPX     2013 v. 2018\n",
       "2  0.706  0.893446   0.8040  0.869       Other  CLPX     2012 v. 2018\n",
       "3  0.760  0.880182   0.8340  0.865       Other  CLPX     2017 v. 2018\n",
       "4  0.709  0.859140   0.7910  0.863       Other  CLPX     2016 v. 2018"
      ]
     },
     "execution_count": 20,
     "metadata": {},
     "output_type": "execute_result"
    }
   ],
   "source": [
    "df = pd.read_csv('../../figs/fig_tabular_data/aggregate_results.csv')\n",
    "del df['Unnamed: 0']\n",
    "df.columns = ['NRMSE', 'SSIM', 'CW-SSIM', 'GMS', 'Drift Class', 'Swath', 'Winters Compared']\n",
    "df.replace({'clpx_swale': \"Other\", 'clpx_watertracks_creek': 'Water track',\n",
    "            'hv_lake': 'Lake', 'clpx_outcrops': 'Outcrop',\n",
    "            'clpx_lake_e': 'Lake', 'hv_polygon_cracks': 'Ice Wedge',\n",
    "            'hv_stream': 'Stream', 'hv_watertrack': 'Water track',}, inplace=True)\n",
    "df.head()"
   ]
  },
  {
   "cell_type": "code",
   "execution_count": 21,
   "metadata": {},
   "outputs": [
    {
     "data": {
      "text/plain": [
       "array(['Other', 'Water track', 'Lake', 'Outcrop', 'Ice Wedge', 'Stream'],\n",
       "      dtype=object)"
      ]
     },
     "execution_count": 21,
     "metadata": {},
     "output_type": "execute_result"
    }
   ],
   "source": [
    "df['Drift Class'].unique()"
   ]
  },
  {
   "cell_type": "code",
   "execution_count": 22,
   "metadata": {},
   "outputs": [
    {
     "data": {
      "text/plain": [
       "0.7998504458002267"
      ]
     },
     "execution_count": 22,
     "metadata": {},
     "output_type": "execute_result"
    }
   ],
   "source": [
    "df['Avg. Similarity Score'] = df[['NRMSE', 'SSIM',\n",
    "                                   'CW-SSIM', 'GMS']].mean(axis=1)\n",
    "df['Swath and Drift Class'] = df['Swath'] + ' ' + df['Drift Class']\n",
    "df['Avg. Similarity Score'].mean()"
   ]
  },
  {
   "cell_type": "code",
   "execution_count": 27,
   "metadata": {},
   "outputs": [
    {
     "data": {
      "text/html": [
       "<div>\n",
       "<style scoped>\n",
       "    .dataframe tbody tr th:only-of-type {\n",
       "        vertical-align: middle;\n",
       "    }\n",
       "\n",
       "    .dataframe tbody tr th {\n",
       "        vertical-align: top;\n",
       "    }\n",
       "\n",
       "    .dataframe thead th {\n",
       "        text-align: right;\n",
       "    }\n",
       "</style>\n",
       "<table border=\"1\" class=\"dataframe\">\n",
       "  <thead>\n",
       "    <tr style=\"text-align: right;\">\n",
       "      <th></th>\n",
       "      <th>NRMSE</th>\n",
       "      <th>SSIM</th>\n",
       "      <th>CW-SSIM</th>\n",
       "      <th>GMS</th>\n",
       "      <th>Avg. Similarity Score</th>\n",
       "    </tr>\n",
       "    <tr>\n",
       "      <th>Swath</th>\n",
       "      <th></th>\n",
       "      <th></th>\n",
       "      <th></th>\n",
       "      <th></th>\n",
       "      <th></th>\n",
       "    </tr>\n",
       "  </thead>\n",
       "  <tbody>\n",
       "    <tr>\n",
       "      <td>CLPX</td>\n",
       "      <td>0.61</td>\n",
       "      <td>0.82</td>\n",
       "      <td>0.82</td>\n",
       "      <td>0.85</td>\n",
       "      <td>0.77</td>\n",
       "    </tr>\n",
       "    <tr>\n",
       "      <td>Happy Valley</td>\n",
       "      <td>0.71</td>\n",
       "      <td>0.87</td>\n",
       "      <td>0.85</td>\n",
       "      <td>0.87</td>\n",
       "      <td>0.83</td>\n",
       "    </tr>\n",
       "  </tbody>\n",
       "</table>\n",
       "</div>"
      ],
      "text/plain": [
       "              NRMSE  SSIM  CW-SSIM   GMS  Avg. Similarity Score\n",
       "Swath                                                          \n",
       "CLPX           0.61  0.82     0.82  0.85                   0.77\n",
       "Happy Valley   0.71  0.87     0.85  0.87                   0.83"
      ]
     },
     "execution_count": 27,
     "metadata": {},
     "output_type": "execute_result"
    }
   ],
   "source": [
    "df.groupby(['Swath']).mean().round(2)"
   ]
  },
  {
   "cell_type": "code",
   "execution_count": 26,
   "metadata": {},
   "outputs": [
    {
     "data": {
      "text/html": [
       "<div>\n",
       "<style scoped>\n",
       "    .dataframe tbody tr th:only-of-type {\n",
       "        vertical-align: middle;\n",
       "    }\n",
       "\n",
       "    .dataframe tbody tr th {\n",
       "        vertical-align: top;\n",
       "    }\n",
       "\n",
       "    .dataframe thead th {\n",
       "        text-align: right;\n",
       "    }\n",
       "</style>\n",
       "<table border=\"1\" class=\"dataframe\">\n",
       "  <thead>\n",
       "    <tr style=\"text-align: right;\">\n",
       "      <th></th>\n",
       "      <th>NRMSE</th>\n",
       "      <th>SSIM</th>\n",
       "      <th>CW-SSIM</th>\n",
       "      <th>GMS</th>\n",
       "      <th>Avg. Similarity Score</th>\n",
       "    </tr>\n",
       "    <tr>\n",
       "      <th>Swath and Drift Class</th>\n",
       "      <th></th>\n",
       "      <th></th>\n",
       "      <th></th>\n",
       "      <th></th>\n",
       "      <th></th>\n",
       "    </tr>\n",
       "  </thead>\n",
       "  <tbody>\n",
       "    <tr>\n",
       "      <td>CLPX Lake</td>\n",
       "      <td>0.433867</td>\n",
       "      <td>0.690356</td>\n",
       "      <td>0.808400</td>\n",
       "      <td>0.844267</td>\n",
       "      <td>0.694222</td>\n",
       "    </tr>\n",
       "    <tr>\n",
       "      <td>CLPX Other</td>\n",
       "      <td>0.705600</td>\n",
       "      <td>0.868216</td>\n",
       "      <td>0.801333</td>\n",
       "      <td>0.861800</td>\n",
       "      <td>0.809237</td>\n",
       "    </tr>\n",
       "    <tr>\n",
       "      <td>CLPX Outcrop</td>\n",
       "      <td>0.571467</td>\n",
       "      <td>0.837712</td>\n",
       "      <td>0.853700</td>\n",
       "      <td>0.840000</td>\n",
       "      <td>0.775720</td>\n",
       "    </tr>\n",
       "    <tr>\n",
       "      <td>CLPX Water track</td>\n",
       "      <td>0.713933</td>\n",
       "      <td>0.872099</td>\n",
       "      <td>0.811567</td>\n",
       "      <td>0.870600</td>\n",
       "      <td>0.817050</td>\n",
       "    </tr>\n",
       "    <tr>\n",
       "      <td>Happy Valley Ice Wedge</td>\n",
       "      <td>0.749133</td>\n",
       "      <td>0.907330</td>\n",
       "      <td>0.838867</td>\n",
       "      <td>0.884067</td>\n",
       "      <td>0.844849</td>\n",
       "    </tr>\n",
       "    <tr>\n",
       "      <td>Happy Valley Lake</td>\n",
       "      <td>0.687133</td>\n",
       "      <td>0.865982</td>\n",
       "      <td>0.851433</td>\n",
       "      <td>0.863267</td>\n",
       "      <td>0.816954</td>\n",
       "    </tr>\n",
       "    <tr>\n",
       "      <td>Happy Valley Stream</td>\n",
       "      <td>0.737933</td>\n",
       "      <td>0.866341</td>\n",
       "      <td>0.817733</td>\n",
       "      <td>0.863667</td>\n",
       "      <td>0.821419</td>\n",
       "    </tr>\n",
       "    <tr>\n",
       "      <td>Happy Valley Water track</td>\n",
       "      <td>0.676000</td>\n",
       "      <td>0.850011</td>\n",
       "      <td>0.891733</td>\n",
       "      <td>0.859667</td>\n",
       "      <td>0.819353</td>\n",
       "    </tr>\n",
       "  </tbody>\n",
       "</table>\n",
       "</div>"
      ],
      "text/plain": [
       "                             NRMSE      SSIM   CW-SSIM       GMS  \\\n",
       "Swath and Drift Class                                              \n",
       "CLPX Lake                 0.433867  0.690356  0.808400  0.844267   \n",
       "CLPX Other                0.705600  0.868216  0.801333  0.861800   \n",
       "CLPX Outcrop              0.571467  0.837712  0.853700  0.840000   \n",
       "CLPX Water track          0.713933  0.872099  0.811567  0.870600   \n",
       "Happy Valley Ice Wedge    0.749133  0.907330  0.838867  0.884067   \n",
       "Happy Valley Lake         0.687133  0.865982  0.851433  0.863267   \n",
       "Happy Valley Stream       0.737933  0.866341  0.817733  0.863667   \n",
       "Happy Valley Water track  0.676000  0.850011  0.891733  0.859667   \n",
       "\n",
       "                          Avg. Similarity Score  \n",
       "Swath and Drift Class                            \n",
       "CLPX Lake                              0.694222  \n",
       "CLPX Other                             0.809237  \n",
       "CLPX Outcrop                           0.775720  \n",
       "CLPX Water track                       0.817050  \n",
       "Happy Valley Ice Wedge                 0.844849  \n",
       "Happy Valley Lake                      0.816954  \n",
       "Happy Valley Stream                    0.821419  \n",
       "Happy Valley Water track               0.819353  "
      ]
     },
     "execution_count": 26,
     "metadata": {},
     "output_type": "execute_result"
    }
   ],
   "source": [
    "df.groupby(['Swath and Drift Class']).mean()"
   ]
  },
  {
   "cell_type": "code",
   "execution_count": 99,
   "metadata": {},
   "outputs": [
    {
     "data": {
      "text/html": [
       "<div>\n",
       "<style scoped>\n",
       "    .dataframe tbody tr th:only-of-type {\n",
       "        vertical-align: middle;\n",
       "    }\n",
       "\n",
       "    .dataframe tbody tr th {\n",
       "        vertical-align: top;\n",
       "    }\n",
       "\n",
       "    .dataframe thead th {\n",
       "        text-align: right;\n",
       "    }\n",
       "</style>\n",
       "<table border=\"1\" class=\"dataframe\">\n",
       "  <thead>\n",
       "    <tr style=\"text-align: right;\">\n",
       "      <th></th>\n",
       "      <th>NRMSE</th>\n",
       "      <th>SSIM</th>\n",
       "      <th>CW-SSIM</th>\n",
       "      <th>GMS</th>\n",
       "      <th>Drift Class</th>\n",
       "      <th>Field Area</th>\n",
       "      <th>Winters Compared</th>\n",
       "      <th>NRMSE Rank</th>\n",
       "      <th>SSIM Rank</th>\n",
       "      <th>CW-SSIM Rank</th>\n",
       "      <th>GMS Rank</th>\n",
       "      <th>Avg. Similarity Rank</th>\n",
       "      <th>Field Area and Drift Class</th>\n",
       "    </tr>\n",
       "  </thead>\n",
       "  <tbody>\n",
       "    <tr>\n",
       "      <td>0</td>\n",
       "      <td>0.691</td>\n",
       "      <td>0.818322</td>\n",
       "      <td>0.8015</td>\n",
       "      <td>0.842</td>\n",
       "      <td>Other</td>\n",
       "      <td>CLPX</td>\n",
       "      <td>2015 v. 2018</td>\n",
       "      <td>50.8</td>\n",
       "      <td>22.5</td>\n",
       "      <td>21.2</td>\n",
       "      <td>21.7</td>\n",
       "      <td>29.050</td>\n",
       "      <td>CLPX Other</td>\n",
       "    </tr>\n",
       "    <tr>\n",
       "      <td>1</td>\n",
       "      <td>0.716</td>\n",
       "      <td>0.893100</td>\n",
       "      <td>0.7695</td>\n",
       "      <td>0.867</td>\n",
       "      <td>Other</td>\n",
       "      <td>CLPX</td>\n",
       "      <td>2013 v. 2018</td>\n",
       "      <td>58.3</td>\n",
       "      <td>75.8</td>\n",
       "      <td>1.7</td>\n",
       "      <td>62.1</td>\n",
       "      <td>49.475</td>\n",
       "      <td>CLPX Other</td>\n",
       "    </tr>\n",
       "    <tr>\n",
       "      <td>2</td>\n",
       "      <td>0.706</td>\n",
       "      <td>0.893446</td>\n",
       "      <td>0.8040</td>\n",
       "      <td>0.869</td>\n",
       "      <td>Other</td>\n",
       "      <td>CLPX</td>\n",
       "      <td>2012 v. 2018</td>\n",
       "      <td>54.2</td>\n",
       "      <td>77.5</td>\n",
       "      <td>24.6</td>\n",
       "      <td>67.1</td>\n",
       "      <td>55.850</td>\n",
       "      <td>CLPX Other</td>\n",
       "    </tr>\n",
       "    <tr>\n",
       "      <td>3</td>\n",
       "      <td>0.760</td>\n",
       "      <td>0.880182</td>\n",
       "      <td>0.8340</td>\n",
       "      <td>0.865</td>\n",
       "      <td>Other</td>\n",
       "      <td>CLPX</td>\n",
       "      <td>2017 v. 2018</td>\n",
       "      <td>73.8</td>\n",
       "      <td>70.0</td>\n",
       "      <td>56.2</td>\n",
       "      <td>59.6</td>\n",
       "      <td>64.900</td>\n",
       "      <td>CLPX Other</td>\n",
       "    </tr>\n",
       "    <tr>\n",
       "      <td>4</td>\n",
       "      <td>0.709</td>\n",
       "      <td>0.859140</td>\n",
       "      <td>0.7910</td>\n",
       "      <td>0.863</td>\n",
       "      <td>Other</td>\n",
       "      <td>CLPX</td>\n",
       "      <td>2016 v. 2018</td>\n",
       "      <td>56.7</td>\n",
       "      <td>50.8</td>\n",
       "      <td>10.0</td>\n",
       "      <td>54.2</td>\n",
       "      <td>42.925</td>\n",
       "      <td>CLPX Other</td>\n",
       "    </tr>\n",
       "  </tbody>\n",
       "</table>\n",
       "</div>"
      ],
      "text/plain": [
       "   NRMSE      SSIM  CW-SSIM    GMS Drift Class Field Area Winters Compared  \\\n",
       "0  0.691  0.818322   0.8015  0.842       Other       CLPX     2015 v. 2018   \n",
       "1  0.716  0.893100   0.7695  0.867       Other       CLPX     2013 v. 2018   \n",
       "2  0.706  0.893446   0.8040  0.869       Other       CLPX     2012 v. 2018   \n",
       "3  0.760  0.880182   0.8340  0.865       Other       CLPX     2017 v. 2018   \n",
       "4  0.709  0.859140   0.7910  0.863       Other       CLPX     2016 v. 2018   \n",
       "\n",
       "   NRMSE Rank  SSIM Rank  CW-SSIM Rank  GMS Rank  Avg. Similarity Rank  \\\n",
       "0        50.8       22.5          21.2      21.7                29.050   \n",
       "1        58.3       75.8           1.7      62.1                49.475   \n",
       "2        54.2       77.5          24.6      67.1                55.850   \n",
       "3        73.8       70.0          56.2      59.6                64.900   \n",
       "4        56.7       50.8          10.0      54.2                42.925   \n",
       "\n",
       "  Field Area and Drift Class  \n",
       "0                 CLPX Other  \n",
       "1                 CLPX Other  \n",
       "2                 CLPX Other  \n",
       "3                 CLPX Other  \n",
       "4                 CLPX Other  "
      ]
     },
     "execution_count": 99,
     "metadata": {},
     "output_type": "execute_result"
    }
   ],
   "source": [
    "# add ranks\n",
    "rdf = df.copy()\n",
    "rdf['NRMSE Rank'] = rdf.NRMSE.rank(pct=True).round(3) * 100\n",
    "rdf['SSIM Rank'] = rdf.SSIM.rank(pct=True).round(3) * 100\n",
    "rdf['CW-SSIM Rank'] = rdf['CW-SSIM'].rank(pct=True).round(3) * 100\n",
    "rdf['GMS Rank'] = rdf.GMS.rank(pct=True).round(3) * 100\n",
    "rdf['Avg. Similarity Rank'] = rdf[['NRMSE Rank', 'SSIM Rank',\n",
    "                                   'CW-SSIM Rank', 'GMS Rank']].mean(axis=1)\n",
    "rdf['Field Area and Drift Class'] = rdf['Field Area'] + ' ' + rdf['Drift Class']\n",
    "\n",
    "rdf.head()\n",
    "# box plot?\n",
    "# heatmap from rank??"
   ]
  },
  {
   "cell_type": "code",
   "execution_count": 101,
   "metadata": {},
   "outputs": [],
   "source": [
    "mean_ranks = rdf.pivot(\"Field Area and Drift Class\", \"Winters Compared\", \"Avg. Similarity Rank\")"
   ]
  },
  {
   "cell_type": "code",
   "execution_count": 119,
   "metadata": {},
   "outputs": [
    {
     "data": {
      "image/png": "[encoded data removed]",
      "text/plain": [
       "<Figure size 1152x648 with 2 Axes>"
      ]
     },
     "metadata": {
      "needs_background": "light"
     },
     "output_type": "display_data"
    }
   ],
   "source": [
    "#plt.figure(figsize=(16,8))\n",
    "\n",
    "fig, ax = plt.subplots(figsize=(16,9))\n",
    "sns.heatmap(mean_ranks, ax=ax, annot=True, square=True,\n",
    "            cmap=spal, center=50, vmin=0, vmax=100,\n",
    "            linewidths=.5)\n",
    "bottom, top = ax.get_ylim()\n",
    "ax.set_ylim(bottom + 0.5, top - 0.5)\n",
    "ax.set_title(\"Average Similarity Percentile\")\n",
    "plt.savefig('../../figs/pngs/similarity_heatmap.png',\n",
    "            dpi=300, bbox_inches='tight')"
   ]
  },
  {
   "cell_type": "code",
   "execution_count": 122,
   "metadata": {},
   "outputs": [
    {
     "data": {
      "text/plain": [
       "<matplotlib.axes._subplots.AxesSubplot at 0x7f372deb0668>"
      ]
     },
     "execution_count": 122,
     "metadata": {},
     "output_type": "execute_result"
    },
    {
     "data": {
      "image/png": "[encoded data removed]",
      "text/plain": [
       "<Figure size 1152x720 with 1 Axes>"
      ]
     },
     "metadata": {
      "needs_background": "light"
     },
     "output_type": "display_data"
    }
   ],
   "source": [
    "fig, ax = plt.subplots(figsize=(16, 10))\n",
    "\n",
    "sns.boxplot(x='Field Area and Drift Class', y='SSIM', data=rdf, ax=ax)\n",
    "sns.boxplot(x='Field Area and Drift Class', y='CW-SSIM', data=rdf, ax=ax)\n",
    "sns.boxplot(x='Field Area and Drift Class', y='GMS', data=rdf, ax=ax)"
   ]
  },
  {
   "cell_type": "code",
   "execution_count": null,
   "metadata": {},
   "outputs": [],
   "source": []
  }
 ],
 "metadata": {
  "kernelspec": {
   "display_name": "Python 3",
   "language": "python",
   "name": "python3"
  },
  "language_info": {
   "codemirror_mode": {
    "name": "ipython",
    "version": 3
   },
   "file_extension": ".py",
   "mimetype": "text/x-python",
   "name": "python",
   "nbconvert_exporter": "python",
   "pygments_lexer": "ipython3",
   "version": "3.7.3"
  }
 },
 "nbformat": 4,
 "nbformat_minor": 2
}
